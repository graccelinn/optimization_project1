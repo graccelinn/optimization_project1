{
 "cells": [
  {
   "cell_type": "markdown",
   "metadata": {
    "colab_type": "text",
    "id": "view-in-github"
   },
   "source": [
    "<a href=\"https://colab.research.google.com/github/graccelinn/optimization_project1/blob/main/RM294_Optimization_Project_1.ipynb\" target=\"_parent\"><img src=\"https://colab.research.google.com/assets/colab-badge.svg\" alt=\"Open In Colab\"/></a>"
   ]
  },
  {
   "cell_type": "markdown",
   "metadata": {
    "id": "1qZK7wK3HC7H"
   },
   "source": [
    "# **RM294 OPTIMIZATION - PROJECT 1**"
   ]
  },
  {
   "cell_type": "markdown",
   "metadata": {
    "id": "i4Xqwa-EHDD8"
   },
   "source": [
    "*Members: Melissa Cai Shi, Grace Lin, Abhigyan Pandya, and Franco Salinas*"
   ]
  },
  {
   "cell_type": "code",
   "execution_count": 1,
   "metadata": {
    "colab": {
     "base_uri": "https://localhost:8080/"
    },
    "id": "numvH5PkgqOx",
    "outputId": "7d8d76d4-5a57-4c39-a978-bea95ccdc315"
   },
   "outputs": [
    {
     "name": "stdout",
     "output_type": "stream",
     "text": [
      "Requirement already satisfied: gurobipy in /opt/anaconda3/lib/python3.13/site-packages (12.0.3)\n"
     ]
    }
   ],
   "source": [
    "# Collab requires to install Gurobi everytime\n",
    "!pip install gurobipy"
   ]
  },
  {
   "cell_type": "code",
   "execution_count": 2,
   "metadata": {
    "id": "DGu4eG24Hi22"
   },
   "outputs": [],
   "source": [
    "# load need libraries\n",
    "import pandas as pd\n",
    "import numpy as np\n",
    "import gurobipy as gp\n",
    "from gurobipy import GRB\n",
    "import matplotlib.pyplot as plt"
   ]
  },
  {
   "cell_type": "markdown",
   "metadata": {
    "id": "YBpxOQ2xHDJ5"
   },
   "source": [
    "### **Part 1: Load and prepare data**"
   ]
  },
  {
   "cell_type": "code",
   "execution_count": 3,
   "metadata": {
    "id": "JoXSyeY5Ht3i"
   },
   "outputs": [],
   "source": [
    "# load 2019 and 2020 data\n",
    "stocks_2019_df = pd.read_csv('stocks2019.csv', index_col=0)\n",
    "stocks_2020_df = pd.read_csv('stocks2020.csv', index_col=0)"
   ]
  },
  {
   "cell_type": "code",
   "execution_count": 4,
   "metadata": {
    "id": "CMeVwG78H3iC"
   },
   "outputs": [],
   "source": [
    "# calculate returns\n",
    "returns_2019 = stocks_2019_df.pct_change().dropna()\n",
    "returns_2020 = stocks_2020_df.pct_change().dropna()"
   ]
  },
  {
   "cell_type": "code",
   "execution_count": 5,
   "metadata": {
    "id": "PQbXOqRqi9g3"
   },
   "outputs": [],
   "source": [
    "# Remove NDX - this is the NASDAQ index, we want the individual stocks that make up the index/portfolio\n",
    "returns_2019_clean = returns_2019.drop('NDX', axis=1)\n",
    "returns_2020_clean = returns_2020.drop('NDX', axis=1)"
   ]
  },
  {
   "cell_type": "code",
   "execution_count": 6,
   "metadata": {
    "colab": {
     "base_uri": "https://localhost:8080/",
     "height": 373
    },
    "id": "6vLW6iZriKYy",
    "outputId": "bc8c10bd-767d-4267-f3aa-26bf78edd0ad"
   },
   "outputs": [
    {
     "data": {
      "text/html": [
       "<div>\n",
       "<style scoped>\n",
       "    .dataframe tbody tr th:only-of-type {\n",
       "        vertical-align: middle;\n",
       "    }\n",
       "\n",
       "    .dataframe tbody tr th {\n",
       "        vertical-align: top;\n",
       "    }\n",
       "\n",
       "    .dataframe thead th {\n",
       "        text-align: right;\n",
       "    }\n",
       "</style>\n",
       "<table border=\"1\" class=\"dataframe\">\n",
       "  <thead>\n",
       "    <tr style=\"text-align: right;\">\n",
       "      <th></th>\n",
       "      <th>ATVI</th>\n",
       "      <th>ADBE</th>\n",
       "      <th>AMD</th>\n",
       "      <th>ALXN</th>\n",
       "      <th>ALGN</th>\n",
       "      <th>GOOGL</th>\n",
       "      <th>GOOG</th>\n",
       "      <th>AMZN</th>\n",
       "      <th>AMGN</th>\n",
       "      <th>ADI</th>\n",
       "      <th>...</th>\n",
       "      <th>TCOM</th>\n",
       "      <th>ULTA</th>\n",
       "      <th>VRSN</th>\n",
       "      <th>VRSK</th>\n",
       "      <th>VRTX</th>\n",
       "      <th>WBA</th>\n",
       "      <th>WDAY</th>\n",
       "      <th>WDC</th>\n",
       "      <th>XEL</th>\n",
       "      <th>XLNX</th>\n",
       "    </tr>\n",
       "    <tr>\n",
       "      <th>X</th>\n",
       "      <th></th>\n",
       "      <th></th>\n",
       "      <th></th>\n",
       "      <th></th>\n",
       "      <th></th>\n",
       "      <th></th>\n",
       "      <th></th>\n",
       "      <th></th>\n",
       "      <th></th>\n",
       "      <th></th>\n",
       "      <th></th>\n",
       "      <th></th>\n",
       "      <th></th>\n",
       "      <th></th>\n",
       "      <th></th>\n",
       "      <th></th>\n",
       "      <th></th>\n",
       "      <th></th>\n",
       "      <th></th>\n",
       "      <th></th>\n",
       "      <th></th>\n",
       "    </tr>\n",
       "  </thead>\n",
       "  <tbody>\n",
       "    <tr>\n",
       "      <th>2019-01-03</th>\n",
       "      <td>-0.035509</td>\n",
       "      <td>-0.039498</td>\n",
       "      <td>-0.094530</td>\n",
       "      <td>0.022030</td>\n",
       "      <td>-0.085791</td>\n",
       "      <td>-0.027696</td>\n",
       "      <td>-0.028484</td>\n",
       "      <td>-0.025242</td>\n",
       "      <td>-0.015216</td>\n",
       "      <td>-0.060405</td>\n",
       "      <td>...</td>\n",
       "      <td>-0.022834</td>\n",
       "      <td>-0.018591</td>\n",
       "      <td>-0.034989</td>\n",
       "      <td>-0.030557</td>\n",
       "      <td>-0.002133</td>\n",
       "      <td>-0.010435</td>\n",
       "      <td>-0.035808</td>\n",
       "      <td>-0.068217</td>\n",
       "      <td>-0.003940</td>\n",
       "      <td>-0.037651</td>\n",
       "    </tr>\n",
       "    <tr>\n",
       "      <th>2019-01-04</th>\n",
       "      <td>0.039903</td>\n",
       "      <td>0.048632</td>\n",
       "      <td>0.114370</td>\n",
       "      <td>0.057779</td>\n",
       "      <td>0.010445</td>\n",
       "      <td>0.051294</td>\n",
       "      <td>0.053786</td>\n",
       "      <td>0.050064</td>\n",
       "      <td>0.034184</td>\n",
       "      <td>0.024278</td>\n",
       "      <td>...</td>\n",
       "      <td>0.058976</td>\n",
       "      <td>0.047954</td>\n",
       "      <td>0.044744</td>\n",
       "      <td>0.044147</td>\n",
       "      <td>0.054785</td>\n",
       "      <td>0.033269</td>\n",
       "      <td>0.060577</td>\n",
       "      <td>0.042356</td>\n",
       "      <td>0.009786</td>\n",
       "      <td>0.046303</td>\n",
       "    </tr>\n",
       "    <tr>\n",
       "      <th>2019-01-07</th>\n",
       "      <td>0.028196</td>\n",
       "      <td>0.013573</td>\n",
       "      <td>0.082632</td>\n",
       "      <td>0.018302</td>\n",
       "      <td>0.017192</td>\n",
       "      <td>-0.001994</td>\n",
       "      <td>-0.002167</td>\n",
       "      <td>0.034353</td>\n",
       "      <td>0.013457</td>\n",
       "      <td>0.006288</td>\n",
       "      <td>...</td>\n",
       "      <td>0.022067</td>\n",
       "      <td>0.062620</td>\n",
       "      <td>0.016312</td>\n",
       "      <td>0.001000</td>\n",
       "      <td>0.018240</td>\n",
       "      <td>0.005749</td>\n",
       "      <td>0.000918</td>\n",
       "      <td>0.035522</td>\n",
       "      <td>-0.004330</td>\n",
       "      <td>0.026415</td>\n",
       "    </tr>\n",
       "    <tr>\n",
       "      <th>2019-01-08</th>\n",
       "      <td>0.030309</td>\n",
       "      <td>0.014918</td>\n",
       "      <td>0.008751</td>\n",
       "      <td>0.006207</td>\n",
       "      <td>0.015954</td>\n",
       "      <td>0.008783</td>\n",
       "      <td>0.007385</td>\n",
       "      <td>0.016612</td>\n",
       "      <td>0.012824</td>\n",
       "      <td>0.024396</td>\n",
       "      <td>...</td>\n",
       "      <td>0.010281</td>\n",
       "      <td>0.018450</td>\n",
       "      <td>0.036460</td>\n",
       "      <td>0.008902</td>\n",
       "      <td>0.013307</td>\n",
       "      <td>0.020009</td>\n",
       "      <td>0.021101</td>\n",
       "      <td>-0.009615</td>\n",
       "      <td>0.011597</td>\n",
       "      <td>-0.019051</td>\n",
       "    </tr>\n",
       "    <tr>\n",
       "      <th>2019-01-09</th>\n",
       "      <td>0.017210</td>\n",
       "      <td>0.011819</td>\n",
       "      <td>-0.026988</td>\n",
       "      <td>0.012430</td>\n",
       "      <td>0.038196</td>\n",
       "      <td>-0.003427</td>\n",
       "      <td>-0.001505</td>\n",
       "      <td>0.001714</td>\n",
       "      <td>-0.001196</td>\n",
       "      <td>0.025340</td>\n",
       "      <td>...</td>\n",
       "      <td>0.023745</td>\n",
       "      <td>0.018804</td>\n",
       "      <td>-0.008157</td>\n",
       "      <td>0.003781</td>\n",
       "      <td>0.023065</td>\n",
       "      <td>0.012050</td>\n",
       "      <td>-0.004612</td>\n",
       "      <td>0.044083</td>\n",
       "      <td>-0.007984</td>\n",
       "      <td>0.008972</td>\n",
       "    </tr>\n",
       "  </tbody>\n",
       "</table>\n",
       "<p>5 rows × 100 columns</p>\n",
       "</div>"
      ],
      "text/plain": [
       "                ATVI      ADBE       AMD      ALXN      ALGN     GOOGL  \\\n",
       "X                                                                        \n",
       "2019-01-03 -0.035509 -0.039498 -0.094530  0.022030 -0.085791 -0.027696   \n",
       "2019-01-04  0.039903  0.048632  0.114370  0.057779  0.010445  0.051294   \n",
       "2019-01-07  0.028196  0.013573  0.082632  0.018302  0.017192 -0.001994   \n",
       "2019-01-08  0.030309  0.014918  0.008751  0.006207  0.015954  0.008783   \n",
       "2019-01-09  0.017210  0.011819 -0.026988  0.012430  0.038196 -0.003427   \n",
       "\n",
       "                GOOG      AMZN      AMGN       ADI  ...      TCOM      ULTA  \\\n",
       "X                                                   ...                       \n",
       "2019-01-03 -0.028484 -0.025242 -0.015216 -0.060405  ... -0.022834 -0.018591   \n",
       "2019-01-04  0.053786  0.050064  0.034184  0.024278  ...  0.058976  0.047954   \n",
       "2019-01-07 -0.002167  0.034353  0.013457  0.006288  ...  0.022067  0.062620   \n",
       "2019-01-08  0.007385  0.016612  0.012824  0.024396  ...  0.010281  0.018450   \n",
       "2019-01-09 -0.001505  0.001714 -0.001196  0.025340  ...  0.023745  0.018804   \n",
       "\n",
       "                VRSN      VRSK      VRTX       WBA      WDAY       WDC  \\\n",
       "X                                                                        \n",
       "2019-01-03 -0.034989 -0.030557 -0.002133 -0.010435 -0.035808 -0.068217   \n",
       "2019-01-04  0.044744  0.044147  0.054785  0.033269  0.060577  0.042356   \n",
       "2019-01-07  0.016312  0.001000  0.018240  0.005749  0.000918  0.035522   \n",
       "2019-01-08  0.036460  0.008902  0.013307  0.020009  0.021101 -0.009615   \n",
       "2019-01-09 -0.008157  0.003781  0.023065  0.012050 -0.004612  0.044083   \n",
       "\n",
       "                 XEL      XLNX  \n",
       "X                               \n",
       "2019-01-03 -0.003940 -0.037651  \n",
       "2019-01-04  0.009786  0.046303  \n",
       "2019-01-07 -0.004330  0.026415  \n",
       "2019-01-08  0.011597 -0.019051  \n",
       "2019-01-09 -0.007984  0.008972  \n",
       "\n",
       "[5 rows x 100 columns]"
      ]
     },
     "execution_count": 6,
     "metadata": {},
     "output_type": "execute_result"
    }
   ],
   "source": [
    "# Take a look at the 2019 data\n",
    "returns_2019_clean.head()"
   ]
  },
  {
   "cell_type": "code",
   "execution_count": 7,
   "metadata": {
    "colab": {
     "base_uri": "https://localhost:8080/",
     "height": 255
    },
    "id": "_9rPEoyfjk7C",
    "outputId": "932a81f2-f300-4c81-d7c6-a0f0c47df855"
   },
   "outputs": [
    {
     "data": {
      "text/html": [
       "<div>\n",
       "<style scoped>\n",
       "    .dataframe tbody tr th:only-of-type {\n",
       "        vertical-align: middle;\n",
       "    }\n",
       "\n",
       "    .dataframe tbody tr th {\n",
       "        vertical-align: top;\n",
       "    }\n",
       "\n",
       "    .dataframe thead th {\n",
       "        text-align: right;\n",
       "    }\n",
       "</style>\n",
       "<table border=\"1\" class=\"dataframe\">\n",
       "  <thead>\n",
       "    <tr style=\"text-align: right;\">\n",
       "      <th></th>\n",
       "      <th>ATVI</th>\n",
       "      <th>ADBE</th>\n",
       "      <th>AMD</th>\n",
       "      <th>ALXN</th>\n",
       "      <th>ALGN</th>\n",
       "      <th>GOOGL</th>\n",
       "      <th>GOOG</th>\n",
       "      <th>AMZN</th>\n",
       "      <th>AMGN</th>\n",
       "      <th>ADI</th>\n",
       "      <th>...</th>\n",
       "      <th>TCOM</th>\n",
       "      <th>ULTA</th>\n",
       "      <th>VRSN</th>\n",
       "      <th>VRSK</th>\n",
       "      <th>VRTX</th>\n",
       "      <th>WBA</th>\n",
       "      <th>WDAY</th>\n",
       "      <th>WDC</th>\n",
       "      <th>XEL</th>\n",
       "      <th>XLNX</th>\n",
       "    </tr>\n",
       "  </thead>\n",
       "  <tbody>\n",
       "    <tr>\n",
       "      <th>1/3/20</th>\n",
       "      <td>0.000341</td>\n",
       "      <td>-0.007834</td>\n",
       "      <td>-0.010183</td>\n",
       "      <td>-0.013260</td>\n",
       "      <td>-0.011421</td>\n",
       "      <td>-0.005231</td>\n",
       "      <td>-0.004907</td>\n",
       "      <td>-0.012139</td>\n",
       "      <td>-0.006789</td>\n",
       "      <td>-0.017604</td>\n",
       "      <td>...</td>\n",
       "      <td>-0.021369</td>\n",
       "      <td>-0.017207</td>\n",
       "      <td>0.021095</td>\n",
       "      <td>0.009728</td>\n",
       "      <td>-0.006699</td>\n",
       "      <td>0.000000</td>\n",
       "      <td>0.005852</td>\n",
       "      <td>-0.015392</td>\n",
       "      <td>0.004809</td>\n",
       "      <td>-0.023020</td>\n",
       "    </tr>\n",
       "    <tr>\n",
       "      <th>1/6/20</th>\n",
       "      <td>0.018238</td>\n",
       "      <td>0.005726</td>\n",
       "      <td>-0.004321</td>\n",
       "      <td>0.001598</td>\n",
       "      <td>0.019398</td>\n",
       "      <td>0.026654</td>\n",
       "      <td>0.024657</td>\n",
       "      <td>0.014886</td>\n",
       "      <td>0.007674</td>\n",
       "      <td>-0.011749</td>\n",
       "      <td>...</td>\n",
       "      <td>-0.013543</td>\n",
       "      <td>0.003118</td>\n",
       "      <td>0.009259</td>\n",
       "      <td>0.002294</td>\n",
       "      <td>0.027755</td>\n",
       "      <td>0.008632</td>\n",
       "      <td>0.006234</td>\n",
       "      <td>-0.019192</td>\n",
       "      <td>-0.001436</td>\n",
       "      <td>-0.020844</td>\n",
       "    </tr>\n",
       "    <tr>\n",
       "      <th>1/7/20</th>\n",
       "      <td>0.010043</td>\n",
       "      <td>-0.000959</td>\n",
       "      <td>-0.002893</td>\n",
       "      <td>0.002533</td>\n",
       "      <td>-0.009864</td>\n",
       "      <td>-0.001932</td>\n",
       "      <td>-0.000624</td>\n",
       "      <td>0.002092</td>\n",
       "      <td>-0.009405</td>\n",
       "      <td>0.022751</td>\n",
       "      <td>...</td>\n",
       "      <td>0.045951</td>\n",
       "      <td>0.008528</td>\n",
       "      <td>0.002318</td>\n",
       "      <td>0.008369</td>\n",
       "      <td>-0.001071</td>\n",
       "      <td>-0.005035</td>\n",
       "      <td>0.020414</td>\n",
       "      <td>0.067698</td>\n",
       "      <td>-0.002077</td>\n",
       "      <td>0.022830</td>\n",
       "    </tr>\n",
       "    <tr>\n",
       "      <th>1/8/20</th>\n",
       "      <td>-0.007623</td>\n",
       "      <td>0.013438</td>\n",
       "      <td>-0.008705</td>\n",
       "      <td>0.016191</td>\n",
       "      <td>0.010386</td>\n",
       "      <td>0.007118</td>\n",
       "      <td>0.007880</td>\n",
       "      <td>-0.007809</td>\n",
       "      <td>0.000756</td>\n",
       "      <td>0.009032</td>\n",
       "      <td>...</td>\n",
       "      <td>-0.012323</td>\n",
       "      <td>0.019400</td>\n",
       "      <td>0.004626</td>\n",
       "      <td>0.009208</td>\n",
       "      <td>0.032620</td>\n",
       "      <td>-0.058357</td>\n",
       "      <td>0.033304</td>\n",
       "      <td>0.014484</td>\n",
       "      <td>-0.000961</td>\n",
       "      <td>-0.002815</td>\n",
       "    </tr>\n",
       "    <tr>\n",
       "      <th>1/9/20</th>\n",
       "      <td>-0.009018</td>\n",
       "      <td>0.007636</td>\n",
       "      <td>0.023834</td>\n",
       "      <td>0.019893</td>\n",
       "      <td>0.036853</td>\n",
       "      <td>0.010498</td>\n",
       "      <td>0.011044</td>\n",
       "      <td>0.004799</td>\n",
       "      <td>0.002980</td>\n",
       "      <td>0.000000</td>\n",
       "      <td>...</td>\n",
       "      <td>0.006781</td>\n",
       "      <td>0.021318</td>\n",
       "      <td>0.023169</td>\n",
       "      <td>0.009638</td>\n",
       "      <td>-0.003592</td>\n",
       "      <td>-0.020598</td>\n",
       "      <td>0.004309</td>\n",
       "      <td>-0.000291</td>\n",
       "      <td>0.002244</td>\n",
       "      <td>0.023493</td>\n",
       "    </tr>\n",
       "  </tbody>\n",
       "</table>\n",
       "<p>5 rows × 100 columns</p>\n",
       "</div>"
      ],
      "text/plain": [
       "            ATVI      ADBE       AMD      ALXN      ALGN     GOOGL      GOOG  \\\n",
       "1/3/20  0.000341 -0.007834 -0.010183 -0.013260 -0.011421 -0.005231 -0.004907   \n",
       "1/6/20  0.018238  0.005726 -0.004321  0.001598  0.019398  0.026654  0.024657   \n",
       "1/7/20  0.010043 -0.000959 -0.002893  0.002533 -0.009864 -0.001932 -0.000624   \n",
       "1/8/20 -0.007623  0.013438 -0.008705  0.016191  0.010386  0.007118  0.007880   \n",
       "1/9/20 -0.009018  0.007636  0.023834  0.019893  0.036853  0.010498  0.011044   \n",
       "\n",
       "            AMZN      AMGN       ADI  ...      TCOM      ULTA      VRSN  \\\n",
       "1/3/20 -0.012139 -0.006789 -0.017604  ... -0.021369 -0.017207  0.021095   \n",
       "1/6/20  0.014886  0.007674 -0.011749  ... -0.013543  0.003118  0.009259   \n",
       "1/7/20  0.002092 -0.009405  0.022751  ...  0.045951  0.008528  0.002318   \n",
       "1/8/20 -0.007809  0.000756  0.009032  ... -0.012323  0.019400  0.004626   \n",
       "1/9/20  0.004799  0.002980  0.000000  ...  0.006781  0.021318  0.023169   \n",
       "\n",
       "            VRSK      VRTX       WBA      WDAY       WDC       XEL      XLNX  \n",
       "1/3/20  0.009728 -0.006699  0.000000  0.005852 -0.015392  0.004809 -0.023020  \n",
       "1/6/20  0.002294  0.027755  0.008632  0.006234 -0.019192 -0.001436 -0.020844  \n",
       "1/7/20  0.008369 -0.001071 -0.005035  0.020414  0.067698 -0.002077  0.022830  \n",
       "1/8/20  0.009208  0.032620 -0.058357  0.033304  0.014484 -0.000961 -0.002815  \n",
       "1/9/20  0.009638 -0.003592 -0.020598  0.004309 -0.000291  0.002244  0.023493  \n",
       "\n",
       "[5 rows x 100 columns]"
      ]
     },
     "execution_count": 7,
     "metadata": {},
     "output_type": "execute_result"
    }
   ],
   "source": [
    "# Take a look at the 2020 data\n",
    "returns_2020_clean.head()"
   ]
  },
  {
   "cell_type": "code",
   "execution_count": 8,
   "metadata": {
    "colab": {
     "base_uri": "https://localhost:8080/"
    },
    "id": "ZNaqfpD3xyDz",
    "outputId": "226a4817-edce-4aaa-d544-063a59cfc58d"
   },
   "outputs": [
    {
     "data": {
      "text/plain": [
       "100"
      ]
     },
     "execution_count": 8,
     "metadata": {},
     "output_type": "execute_result"
    }
   ],
   "source": [
    "# get total number of stocks\n",
    "n_stocks = len(returns_2019_clean.columns)\n",
    "n_stocks"
   ]
  },
  {
   "cell_type": "code",
   "execution_count": null,
   "metadata": {
    "id": "aaj6kHrVyhBl"
   },
   "outputs": [],
   "source": []
  },
  {
   "cell_type": "markdown",
   "metadata": {
    "id": "QW2wIwGBHDPZ"
   },
   "source": [
    "## **Part 2: Finding portfolio that minimizes the daily average beta-CVaR using the 2019 data**"
   ]
  },
  {
   "cell_type": "code",
   "execution_count": 12,
   "metadata": {},
   "outputs": [
    {
     "name": "stdout",
     "output_type": "stream",
     "text": [
      "\n",
      "Part 2 (β=0.95, R≥0.020% daily)\n",
      "In-sample 2019: VaR=0.850%, CVaR=1.012%\n",
      "Out-of-sample 2020: VaR=2.525%, CVaR=4.583%\n",
      "NDX CVaR: 2019=2.441%, 2020=5.589%\n",
      "Top weights:\n",
      " XEL     0.303917\n",
      "CHTR    0.264965\n",
      "AMGN    0.080766\n",
      "CTXS    0.065614\n",
      "CHKP    0.062696\n",
      "EXC     0.052155\n",
      "KHC     0.040510\n",
      "CSX     0.034312\n",
      "COST    0.030352\n",
      "EBAY    0.023486\n",
      "dtype: float64\n"
     ]
    }
   ],
   "source": [
    "# === Part 2 – β-CVaR Minimization (β=0.95, R=0.02%) ===\n",
    "\n",
    "p19 = pd.read_csv(\"stocks2019.csv\", index_col=0)\n",
    "p20 = pd.read_csv(\"stocks2020.csv\", index_col=0)\n",
    "\n",
    "r19, r20 = p19.pct_change().dropna(), p20.pct_change().dropna()\n",
    "INDEX, BETA, R_FLOOR = \"NDX\", 0.95, 0.0002\n",
    "\n",
    "assets = [c for c in r19.columns if c != INDEX]\n",
    "Y, q, n = r19[assets].to_numpy(), *r19[assets].to_numpy().shape\n",
    "mu = r19[assets].mean().to_numpy()\n",
    "\n",
    "m = gp.Model(\"cvar\"); m.Params.OutputFlag = 0\n",
    "x   = m.addVars(n, lb=0.0)                       # weights\n",
    "a   = m.addVar(lb=-GRB.INFINITY)                 # alpha (VaR proxy)\n",
    "u   = m.addVars(q, lb=0.0)                       # tail slacks\n",
    "m.addConstr(gp.quicksum(x[j] for j in range(n)) == 1)               # budget\n",
    "m.addConstr(gp.quicksum(mu[j]*x[j] for j in range(n)) >= R_FLOOR)   # mean floor\n",
    "for k in range(q): m.addConstr(-gp.quicksum(Y[k,j]*x[j] for j in range(n)) - a - u[k] <= 0)\n",
    "m.setObjective(a + (1/((1-BETA)*q))*gp.quicksum(u[k] for k in range(q)), GRB.MINIMIZE)\n",
    "m.optimize()\n",
    "\n",
    "w = pd.Series([x[j].X for j in range(n)], index=assets)\n",
    "\n",
    "#LLM assisted code\n",
    "def var_cvar(wts, R, beta=BETA):\n",
    "    pr = R[wts.index].to_numpy() @ wts.to_numpy()\n",
    "    L  = -pr\n",
    "    try:  v = np.quantile(L, beta, method=\"linear\")\n",
    "    except TypeError: v = np.quantile(L, beta, interpolation=\"linear\")\n",
    "    return float(v), float(L[L>=v-1e-12].mean())\n",
    "\n",
    "v19, c19 = var_cvar(w, r19);  v20, c20 = var_cvar(w, r20)\n",
    "ndx19 = var_cvar(pd.Series({INDEX:1.0}), r19[[INDEX]])[1]\n",
    "ndx20 = var_cvar(pd.Series({INDEX:1.0}), r20[[INDEX]])[1]\n",
    "\n",
    "print(f\"\\nPart 2 (β={BETA}, R≥{100*R_FLOOR:.3f}% daily)\")\n",
    "print(f\"In-sample 2019: VaR={100*v19:.3f}%, CVaR={100*c19:.3f}%\")\n",
    "print(f\"Out-of-sample 2020: VaR={100*v20:.3f}%, CVaR={100*c20:.3f}%\")\n",
    "print(f\"NDX CVaR: 2019={100*ndx19:.3f}%, 2020={100*ndx20:.3f}%\")\n",
    "print(\"Top weights:\\n\", w.sort_values(ascending=False).head(10))\n"
   ]
  },
  {
   "cell_type": "markdown",
   "metadata": {},
   "source": [
    "#### When we optimize the portfolio on 2019 daily returns with β=0.95 and a daily return floor of 0.02%, the model produces a concentrated allocation, most notably into XEL (30.4%) and CHTR (26.5%), alongside smaller positions such as AMGN, CTXS, and CHKP. In-sample, the portfolio achieves a daily 95% CVaR of just 1.012%, far below the NDX benchmark’s 2.441%. However, when the same 2019 weights are carried into 2020, the out-of-sample CVaR rises sharply to 4.583%, compared with 5.589% for NDX. This large increase highlights the danger of assuming stationarity in financial returns: the market environment in 2020, shaped by COVID shocks, was fundamentally different from 2019. While the optimized portfolio still outperforms NDX, its risk profile more than quadruples. This demonstrates that sticking with the same portfolio across years is not advisable, and that regular re-optimization is necessary to adapt to changing market regimes."
   ]
  },
  {
   "cell_type": "markdown",
   "metadata": {
    "id": "3foqCnzLHDVa"
   },
   "source": [
    "## **Part 3: Rerun part 2 with beta=0.9, beta=0.99**"
   ]
  },
  {
   "cell_type": "code",
   "execution_count": 13,
   "metadata": {
    "id": "vGzngeYGHDn0"
   },
   "outputs": [
    {
     "name": "stdout",
     "output_type": "stream",
     "text": [
      "\n",
      "=== Part 3 — β=0.9 ===\n",
      "In-sample 2019 CVaR = 0.775%\n",
      "Out-of-sample 2020 CVaR = 3.209%\n",
      "Top 5 weights:\n",
      " CHTR    0.240605\n",
      "XEL     0.212977\n",
      "MDLZ    0.136573\n",
      "EXC     0.064285\n",
      "WBA     0.052900\n",
      "dtype: float64\n",
      "\n",
      "=== Part 3 — β=0.99 ===\n",
      "In-sample 2019 CVaR = 1.245%\n",
      "Out-of-sample 2020 CVaR = 9.089%\n",
      "Top 5 weights:\n",
      " XEL     0.447035\n",
      "CHTR    0.248055\n",
      "CTXS    0.089074\n",
      "KHC     0.067269\n",
      "NTES    0.051005\n",
      "dtype: float64\n"
     ]
    }
   ],
   "source": [
    "# === Part 3 — rerun Part 2 with β = 0.90 and β = 0.99 (same variables as Part 2) ===\n",
    "for beta in [0.90, 0.99]:\n",
    "    m = gp.Model(f\"cvar_beta_{beta}\"); m.Params.OutputFlag = 0\n",
    "    x = m.addVars(n, lb=0.0)\n",
    "    a = m.addVar(lb=-GRB.INFINITY)\n",
    "    u = m.addVars(q, lb=0.0)\n",
    "\n",
    "    m.addConstr(gp.quicksum(x[j] for j in range(n)) == 1)\n",
    "    m.addConstr(gp.quicksum(mu[j]*x[j] for j in range(n)) >= R_FLOOR)\n",
    "    for k in range(q):\n",
    "        m.addConstr(-gp.quicksum(Y[k, j]*x[j] for j in range(n)) - a - u[k] <= 0)\n",
    "\n",
    "    m.setObjective(a + (1/((1-beta)*q))*gp.quicksum(u[k] for k in range(q)), GRB.MINIMIZE)\n",
    "    m.optimize()\n",
    "\n",
    "    w_beta = pd.Series([x[j].X for j in range(n)], index=assets)\n",
    "    _, cvar19 = var_cvar(w_beta, r19, beta)\n",
    "    _, cvar20 = var_cvar(w_beta, r20, beta)\n",
    "\n",
    "    print(f\"\\n=== Part 3 — β={beta} ===\")\n",
    "    print(f\"In-sample 2019 CVaR = {100*cvar19:.3f}%\")\n",
    "    print(f\"Out-of-sample 2020 CVaR = {100*cvar20:.3f}%\")\n",
    "    print(\"Top 5 weights:\\n\", w_beta.sort_values(ascending=False).head(5))\n"
   ]
  },
  {
   "cell_type": "markdown",
   "metadata": {
    "id": "fXQHE3NbHDq9"
   },
   "source": [
    "#### Repeating the optimization with alternative confidence levels shows how β shapes both portfolio construction and risk. At β=0.90, the model minimizes losses across the worst 10% of days, leading to a somewhat more diversified allocation with holdings like CHTR, XEL, MDLZ, EXC, and WBA. This portfolio achieved the lowest out-of-sample 2020 CVaR (3.209%), suggesting that a broader view of the tail produced more robust performance. The baseline β=0.95 allocation is slightly more concentrated, with higher 2020 CVaR at 4.583%. At the extreme, β=0.99 focuses only on the worst 1% of days in 2019 and responds by heavily concentrating in XEL (44.7%) and CHTR (24.8%). While this improved in-sample tail protection, it collapsed out-of-sample, with 2020 CVaR ballooning to 9.089%. These results illustrate that the choice of β meaningfully changes allocations: lower β values encourage diversification and smoother performance, while very high β values can overfit to a narrow slice of history and fail under new conditions."
   ]
  },
  {
   "cell_type": "markdown",
   "metadata": {
    "id": "Tetu8UNWl40H"
   },
   "source": [
    "## **Part 4: Conservative risk management approach**"
   ]
  },
  {
   "cell_type": "code",
   "execution_count": null,
   "metadata": {
    "id": "taeYCMyfHDuG"
   },
   "outputs": [],
   "source": []
  },
  {
   "cell_type": "code",
   "execution_count": null,
   "metadata": {
    "id": "KWxgBeB6HDxM"
   },
   "outputs": [],
   "source": []
  },
  {
   "cell_type": "markdown",
   "metadata": {
    "id": "T4IpOxz2mL5R"
   },
   "source": [
    "## **Part 5: Monthly Update/Allocation**"
   ]
  },
  {
   "cell_type": "code",
   "execution_count": null,
   "metadata": {
    "id": "vXq14-pNHD0U"
   },
   "outputs": [],
   "source": []
  },
  {
   "cell_type": "code",
   "execution_count": null,
   "metadata": {
    "id": "PHz9Gw_5mNC7"
   },
   "outputs": [],
   "source": []
  },
  {
   "cell_type": "code",
   "execution_count": null,
   "metadata": {
    "id": "QkgC1i-5mNpc"
   },
   "outputs": [],
   "source": []
  },
  {
   "cell_type": "markdown",
   "metadata": {
    "id": "nT4LPfwzmNYA"
   },
   "source": [
    "## **Part 6: Stable Portfolio**"
   ]
  },
  {
   "cell_type": "code",
   "execution_count": null,
   "metadata": {
    "id": "wNZTAo9ImOaZ"
   },
   "outputs": [],
   "source": []
  },
  {
   "cell_type": "code",
   "execution_count": null,
   "metadata": {
    "id": "Rzaw5BdsmOyt"
   },
   "outputs": [],
   "source": []
  }
 ],
 "metadata": {
  "colab": {
   "include_colab_link": true,
   "provenance": []
  },
  "kernelspec": {
   "display_name": "Python [conda env:base] *",
   "language": "python",
   "name": "conda-base-py"
  },
  "language_info": {
   "codemirror_mode": {
    "name": "ipython",
    "version": 3
   },
   "file_extension": ".py",
   "mimetype": "text/x-python",
   "name": "python",
   "nbconvert_exporter": "python",
   "pygments_lexer": "ipython3",
   "version": "3.13.5"
  }
 },
 "nbformat": 4,
 "nbformat_minor": 4
}
