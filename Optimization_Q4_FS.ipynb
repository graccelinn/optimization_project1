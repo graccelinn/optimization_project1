{
  "nbformat": 4,
  "nbformat_minor": 0,
  "metadata": {
    "colab": {
      "provenance": [],
      "authorship_tag": "ABX9TyN7fRezK9ST6aKKGdPQyXxk",
      "include_colab_link": true
    },
    "kernelspec": {
      "name": "python3",
      "display_name": "Python 3"
    },
    "language_info": {
      "name": "python"
    }
  },
  "cells": [
    {
      "cell_type": "markdown",
      "metadata": {
        "id": "view-in-github",
        "colab_type": "text"
      },
      "source": [
        "<a href=\"https://colab.research.google.com/github/graccelinn/optimization_project1/blob/main/Optimization_Q4_FS.ipynb\" target=\"_parent\"><img src=\"https://colab.research.google.com/assets/colab-badge.svg\" alt=\"Open In Colab\"/></a>"
      ]
    },
    {
      "cell_type": "markdown",
      "source": [
        "INSTEAD OF MINIMIZING B-CBAR I WANT TO MINIMIZE THE MAXIMUM MONTHLY B-CVAR ACROSS THE YEAR."
      ],
      "metadata": {
        "id": "v0i98sHF_XRZ"
      }
    },
    {
      "cell_type": "markdown",
      "source": [
        "Each day is considered an independent scenario. So longer months naturally contribute more to the estimate because they provide more information."
      ],
      "metadata": {
        "id": "ZtYHxlfe_adF"
      }
    },
    {
      "cell_type": "code",
      "execution_count": null,
      "metadata": {
        "id": "x54WjzCk_Ljg"
      },
      "outputs": [],
      "source": [
        "# --- prepare assets and arrays (same as before) ---\n",
        "assets = [c for c in r19.columns if c != INDEX_NAME]\n",
        "Y = r19[assets].to_numpy()   # shape (q_total, n)\n",
        "q_total, n = Y.shape\n",
        "mu = r19[assets].mean().to_numpy()\n",
        "\n",
        "# --- map each row to a month period (periods preserve order) ---\n",
        "dates = pd.to_datetime(r19.index)\n",
        "month_labels = dates.to_period('M')                # e.g. Period('2019-01', 'M')\n",
        "months = month_labels.unique().tolist()            # list of months in order\n",
        "\n",
        "# mapping month -> row indices (0-based into Y)\n",
        "month_to_rows = {m: np.where(month_labels == m)[0].tolist() for m in months}\n",
        "q_m = {m: len(month_to_rows[m]) for m in months}\n",
        "\n",
        "# --- Build Gurobi model ---\n",
        "model = gp.Model(\"min_max_monthly_cvar\")\n",
        "model.Params.OutputFlag = 0\n",
        "\n",
        "# decision vars\n",
        "x = model.addVars(n, lb=0.0, name=\"x\")                    # asset weights (n vars)\n",
        "alpha = {m: model.addVar(lb=-GRB.INFINITY, name=f\"alpha_{str(m)}\") for m in months}\n",
        "u = model.addVars(q_total, lb=0.0, name=\"u\")              # one slack per day\n",
        "T = model.addVar(lb=-GRB.INFINITY, name=\"T\")             # maximum monthly CVaR to minimize\n",
        "\n",
        "# budget and mean floor\n",
        "model.addConstr(gp.quicksum(x[j] for j in range(n)) == 1.0, name=\"budget\")\n",
        "model.addConstr(gp.quicksum(mu[j] * x[j] for j in range(n)) >= R_FLOOR, name=\"mean_floor\")\n",
        "\n",
        "# tail constraints: for each day k use the alpha of that day's month\n",
        "for k in range(q_total):\n",
        "    m_label = month_labels[k]\n",
        "    # -Y[k,:]@x - alpha_m - u_k <= 0  <=> u_k >= L_k(x) - alpha_m\n",
        "    model.addConstr(\n",
        "        -gp.quicksum(Y[k, j] * x[j] for j in range(n)) - alpha[m_label] - u[k] <= 0.0,\n",
        "        name=f\"tail_day_{k}\"\n",
        "    )\n",
        "\n",
        "# monthly CVaR definition and link to T\n",
        "for m_label in months:\n",
        "    rows = month_to_rows[m_label]\n",
        "    qm = q_m[m_label]\n",
        "    if qm <= 0:\n",
        "        raise RuntimeError(f\"Month {m_label} has no observations.\")\n",
        "    cvar_coef = 1.0 / ((1.0 - BETA) * qm)\n",
        "    # alpha_m + cvar_coef * sum_{k in rows} u_k <= T\n",
        "    model.addConstr(\n",
        "        alpha[m_label] + cvar_coef * gp.quicksum(u[k] for k in rows) <= T,\n",
        "        name=f\"cvar_le_T_{str(m_label)}\"\n",
        "    )\n",
        "\n",
        "# objective: minimize T (the maximum monthly CVaR)\n",
        "model.setObjective(T, GRB.MINIMIZE)\n",
        "\n",
        "# solve\n",
        "model.optimize()\n",
        "if model.Status != GRB.OPTIMAL:\n",
        "    raise RuntimeError(f\"Gurobi did not find an optimal solution (status {model.Status}).\")\n",
        "\n",
        "# extract weights\n",
        "w = pd.Series([x[j].X for j in range(n)], index=assets, name=\"weight\")\n",
        "\n",
        "# --- helper to compute VaR/CVaR from a returns DataFrame grouped by months ---\n",
        "def var_cvar_array_for_months(weights: pd.Series, returns_df: pd.DataFrame, beta=BETA):\n",
        "    # returns_df: rows are days with a DatetimeIndex\n",
        "    dates = pd.to_datetime(returns_df.index)\n",
        "    month_labels = dates.to_period('M')\n",
        "    months = month_labels.unique()\n",
        "    results = {}\n",
        "    for m in months:\n",
        "        rows_mask = (month_labels == m)\n",
        "        Rm = returns_df.loc[rows_mask, weights.index]\n",
        "        if len(Rm) == 0:\n",
        "            results[m] = (np.nan, np.nan)\n",
        "            continue\n",
        "        pr = Rm.to_numpy() @ weights.to_numpy()   # daily portfolio returns for that month\n",
        "        L = -pr\n",
        "        try:\n",
        "            v = np.quantile(L, beta, method=\"linear\")\n",
        "        except TypeError:\n",
        "            v = np.quantile(L, beta, interpolation=\"linear\")\n",
        "        cvar = float(L[L >= v - 1e-12].mean())\n",
        "        results[m] = (float(v), cvar)\n",
        "    return results\n",
        "\n",
        "# compute in-sample monthly CVaRs (2019)\n",
        "in_sample_monthly = var_cvar_array_for_months(w, r19[assets])\n",
        "\n",
        "# report\n",
        "print(\"\\n=== Minimize max-monthly CVaR result ===\")\n",
        "print(\"Optimized top weights:\\n\", w.sort_values(ascending=False).head(10))\n",
        "print(f\"Objective T (minimized max monthly CVaR, in-sample) = {model.ObjVal:.6f}\")\n",
        "\n",
        "# show monthly CVaRs (in-sample) and maximum\n",
        "in_cvars = pd.Series({m: v[1] for m, v in in_sample_monthly.items()})\n",
        "out_cvars = pd.Series({m: v[1] for m, v in out_sample_monthly.items()})\n",
        "print(\"\\nIn-sample (2019) monthly CVaR (as decimals):\")\n",
        "print(in_cvars)\n",
        "print(f\"Max in-sample monthly CVaR = {in_cvars.max():.6f}\")"
      ]
    }
  ]
}