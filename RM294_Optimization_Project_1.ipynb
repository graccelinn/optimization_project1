{
  "nbformat": 4,
  "nbformat_minor": 0,
  "metadata": {
    "colab": {
      "provenance": [],
      "mount_file_id": "1v8MwIXPpicPnrhUHKWa9aS4CWzF4n5wk",
      "authorship_tag": "ABX9TyO0pEXMSXIEpeh1UpN3UWzp",
      "include_colab_link": true
    },
    "kernelspec": {
      "name": "python3",
      "display_name": "Python 3"
    },
    "language_info": {
      "name": "python"
    }
  },
  "cells": [
    {
      "cell_type": "markdown",
      "metadata": {
        "id": "view-in-github",
        "colab_type": "text"
      },
      "source": [
        "<a href=\"https://colab.research.google.com/github/graccelinn/optimization_project1/blob/main/RM294_Optimization_Project_1.ipynb\" target=\"_parent\"><img src=\"https://colab.research.google.com/assets/colab-badge.svg\" alt=\"Open In Colab\"/></a>"
      ]
    },
    {
      "cell_type": "markdown",
      "source": [
        "# **RM294 OPTIMIZATION - PROJECT 1**"
      ],
      "metadata": {
        "id": "1qZK7wK3HC7H"
      }
    },
    {
      "cell_type": "markdown",
      "source": [
        "*Members: Melissa Cai Shi, Grace Lin, Abhigyan Pandya, and Franco Salinas*"
      ],
      "metadata": {
        "id": "i4Xqwa-EHDD8"
      }
    },
    {
      "cell_type": "code",
      "source": [
        "# Collab requires to install Gurobi everytime\n",
        "!pip install gurobipy"
      ],
      "metadata": {
        "colab": {
          "base_uri": "https://localhost:8080/"
        },
        "id": "numvH5PkgqOx",
        "outputId": "a4ebed51-b336-4a54-81fc-9134a9f4cace",
        "collapsed": true
      },
      "execution_count": null,
      "outputs": [
        {
          "output_type": "stream",
          "name": "stdout",
          "text": [
            "Collecting gurobipy\n",
            "  Downloading gurobipy-12.0.3-cp312-cp312-manylinux2014_x86_64.manylinux_2_17_x86_64.whl.metadata (16 kB)\n",
            "Downloading gurobipy-12.0.3-cp312-cp312-manylinux2014_x86_64.manylinux_2_17_x86_64.whl (14.3 MB)\n",
            "\u001b[2K   \u001b[90m━━━━━━━━━━━━━━━━━━━━━━━━━━━━━━━━━━━━━━━━\u001b[0m \u001b[32m14.3/14.3 MB\u001b[0m \u001b[31m65.4 MB/s\u001b[0m eta \u001b[36m0:00:00\u001b[0m\n",
            "\u001b[?25hInstalling collected packages: gurobipy\n",
            "Successfully installed gurobipy-12.0.3\n"
          ]
        }
      ]
    },
    {
      "cell_type": "code",
      "source": [
        "# load need libraries\n",
        "import pandas as pd\n",
        "import numpy as np\n",
        "import gurobipy as gp\n",
        "import matplotlib.pyplot as plt"
      ],
      "metadata": {
        "id": "DGu4eG24Hi22"
      },
      "execution_count": 80,
      "outputs": []
    },
    {
      "cell_type": "markdown",
      "source": [
        "### **Part 1: Load and prepare data**"
      ],
      "metadata": {
        "id": "YBpxOQ2xHDJ5"
      }
    },
    {
      "cell_type": "code",
      "source": [
        "# load 2019 and 2020 data\n",
        "stocks_2019_df = pd.read_csv('/content/drive/MyDrive/Colab Notebooks/Optimization I/stocks2019.csv', index_col=0, parse_dates=True)\n",
        "stocks_2020_df = pd.read_csv('/content/drive/MyDrive/Colab Notebooks/Optimization I/stocks2020.csv', index_col=0, parse_dates=True, date_format='%m/%d/%y')"
      ],
      "metadata": {
        "id": "JoXSyeY5Ht3i"
      },
      "execution_count": 81,
      "outputs": []
    },
    {
      "cell_type": "code",
      "source": [
        "# calculate returns\n",
        "returns_2019 = stocks_2019_df.pct_change().dropna()\n",
        "returns_2020 = stocks_2020_df.pct_change().dropna()"
      ],
      "metadata": {
        "id": "CMeVwG78H3iC"
      },
      "execution_count": 82,
      "outputs": []
    },
    {
      "cell_type": "code",
      "source": [
        "# Remove NDX - this is the NASDAQ index, we want the individual stocks that make up the index/portfolio\n",
        "returns_2019_clean = returns_2019.drop('NDX', axis=1)\n",
        "returns_2020_clean = returns_2020.drop('NDX', axis=1)"
      ],
      "metadata": {
        "id": "PQbXOqRqi9g3"
      },
      "execution_count": 83,
      "outputs": []
    },
    {
      "cell_type": "code",
      "source": [
        "returns_2019_clean = returns_2019_clean.rename_axis('Date')\n",
        "returns_2020_clean = returns_2020_clean.rename_axis('Date')"
      ],
      "metadata": {
        "id": "5Jy3vhupJAPm"
      },
      "execution_count": 84,
      "outputs": []
    },
    {
      "cell_type": "code",
      "source": [
        "# Take a look at the 2019 data\n",
        "returns_2019_clean.head()"
      ],
      "metadata": {
        "colab": {
          "base_uri": "https://localhost:8080/",
          "height": 373
        },
        "id": "6vLW6iZriKYy",
        "outputId": "d9fdf4df-1ed3-49b2-f68b-7d6de24eeda4"
      },
      "execution_count": 85,
      "outputs": [
        {
          "output_type": "execute_result",
          "data": {
            "text/plain": [
              "                ATVI      ADBE       AMD      ALXN      ALGN     GOOGL  \\\n",
              "Date                                                                     \n",
              "2019-01-03 -0.035509 -0.039498 -0.094530  0.022030 -0.085791 -0.027696   \n",
              "2019-01-04  0.039903  0.048632  0.114370  0.057779  0.010445  0.051294   \n",
              "2019-01-07  0.028196  0.013573  0.082632  0.018302  0.017192 -0.001994   \n",
              "2019-01-08  0.030309  0.014918  0.008751  0.006207  0.015954  0.008783   \n",
              "2019-01-09  0.017210  0.011819 -0.026988  0.012430  0.038196 -0.003427   \n",
              "\n",
              "                GOOG      AMZN      AMGN       ADI  ...      TCOM      ULTA  \\\n",
              "Date                                                ...                       \n",
              "2019-01-03 -0.028484 -0.025242 -0.015216 -0.060405  ... -0.022834 -0.018591   \n",
              "2019-01-04  0.053786  0.050064  0.034184  0.024278  ...  0.058976  0.047954   \n",
              "2019-01-07 -0.002167  0.034353  0.013457  0.006288  ...  0.022067  0.062620   \n",
              "2019-01-08  0.007385  0.016612  0.012824  0.024396  ...  0.010281  0.018450   \n",
              "2019-01-09 -0.001505  0.001714 -0.001196  0.025340  ...  0.023745  0.018804   \n",
              "\n",
              "                VRSN      VRSK      VRTX       WBA      WDAY       WDC  \\\n",
              "Date                                                                     \n",
              "2019-01-03 -0.034989 -0.030557 -0.002133 -0.010435 -0.035808 -0.068217   \n",
              "2019-01-04  0.044744  0.044147  0.054785  0.033269  0.060577  0.042356   \n",
              "2019-01-07  0.016312  0.001000  0.018240  0.005749  0.000918  0.035522   \n",
              "2019-01-08  0.036460  0.008902  0.013307  0.020009  0.021101 -0.009615   \n",
              "2019-01-09 -0.008157  0.003781  0.023065  0.012050 -0.004612  0.044083   \n",
              "\n",
              "                 XEL      XLNX  \n",
              "Date                            \n",
              "2019-01-03 -0.003940 -0.037651  \n",
              "2019-01-04  0.009786  0.046303  \n",
              "2019-01-07 -0.004330  0.026415  \n",
              "2019-01-08  0.011597 -0.019051  \n",
              "2019-01-09 -0.007984  0.008972  \n",
              "\n",
              "[5 rows x 100 columns]"
            ],
            "text/html": [
              "\n",
              "  <div id=\"df-e87b63cd-a551-42fb-b76f-5ff4a42b305b\" class=\"colab-df-container\">\n",
              "    <div>\n",
              "<style scoped>\n",
              "    .dataframe tbody tr th:only-of-type {\n",
              "        vertical-align: middle;\n",
              "    }\n",
              "\n",
              "    .dataframe tbody tr th {\n",
              "        vertical-align: top;\n",
              "    }\n",
              "\n",
              "    .dataframe thead th {\n",
              "        text-align: right;\n",
              "    }\n",
              "</style>\n",
              "<table border=\"1\" class=\"dataframe\">\n",
              "  <thead>\n",
              "    <tr style=\"text-align: right;\">\n",
              "      <th></th>\n",
              "      <th>ATVI</th>\n",
              "      <th>ADBE</th>\n",
              "      <th>AMD</th>\n",
              "      <th>ALXN</th>\n",
              "      <th>ALGN</th>\n",
              "      <th>GOOGL</th>\n",
              "      <th>GOOG</th>\n",
              "      <th>AMZN</th>\n",
              "      <th>AMGN</th>\n",
              "      <th>ADI</th>\n",
              "      <th>...</th>\n",
              "      <th>TCOM</th>\n",
              "      <th>ULTA</th>\n",
              "      <th>VRSN</th>\n",
              "      <th>VRSK</th>\n",
              "      <th>VRTX</th>\n",
              "      <th>WBA</th>\n",
              "      <th>WDAY</th>\n",
              "      <th>WDC</th>\n",
              "      <th>XEL</th>\n",
              "      <th>XLNX</th>\n",
              "    </tr>\n",
              "    <tr>\n",
              "      <th>Date</th>\n",
              "      <th></th>\n",
              "      <th></th>\n",
              "      <th></th>\n",
              "      <th></th>\n",
              "      <th></th>\n",
              "      <th></th>\n",
              "      <th></th>\n",
              "      <th></th>\n",
              "      <th></th>\n",
              "      <th></th>\n",
              "      <th></th>\n",
              "      <th></th>\n",
              "      <th></th>\n",
              "      <th></th>\n",
              "      <th></th>\n",
              "      <th></th>\n",
              "      <th></th>\n",
              "      <th></th>\n",
              "      <th></th>\n",
              "      <th></th>\n",
              "      <th></th>\n",
              "    </tr>\n",
              "  </thead>\n",
              "  <tbody>\n",
              "    <tr>\n",
              "      <th>2019-01-03</th>\n",
              "      <td>-0.035509</td>\n",
              "      <td>-0.039498</td>\n",
              "      <td>-0.094530</td>\n",
              "      <td>0.022030</td>\n",
              "      <td>-0.085791</td>\n",
              "      <td>-0.027696</td>\n",
              "      <td>-0.028484</td>\n",
              "      <td>-0.025242</td>\n",
              "      <td>-0.015216</td>\n",
              "      <td>-0.060405</td>\n",
              "      <td>...</td>\n",
              "      <td>-0.022834</td>\n",
              "      <td>-0.018591</td>\n",
              "      <td>-0.034989</td>\n",
              "      <td>-0.030557</td>\n",
              "      <td>-0.002133</td>\n",
              "      <td>-0.010435</td>\n",
              "      <td>-0.035808</td>\n",
              "      <td>-0.068217</td>\n",
              "      <td>-0.003940</td>\n",
              "      <td>-0.037651</td>\n",
              "    </tr>\n",
              "    <tr>\n",
              "      <th>2019-01-04</th>\n",
              "      <td>0.039903</td>\n",
              "      <td>0.048632</td>\n",
              "      <td>0.114370</td>\n",
              "      <td>0.057779</td>\n",
              "      <td>0.010445</td>\n",
              "      <td>0.051294</td>\n",
              "      <td>0.053786</td>\n",
              "      <td>0.050064</td>\n",
              "      <td>0.034184</td>\n",
              "      <td>0.024278</td>\n",
              "      <td>...</td>\n",
              "      <td>0.058976</td>\n",
              "      <td>0.047954</td>\n",
              "      <td>0.044744</td>\n",
              "      <td>0.044147</td>\n",
              "      <td>0.054785</td>\n",
              "      <td>0.033269</td>\n",
              "      <td>0.060577</td>\n",
              "      <td>0.042356</td>\n",
              "      <td>0.009786</td>\n",
              "      <td>0.046303</td>\n",
              "    </tr>\n",
              "    <tr>\n",
              "      <th>2019-01-07</th>\n",
              "      <td>0.028196</td>\n",
              "      <td>0.013573</td>\n",
              "      <td>0.082632</td>\n",
              "      <td>0.018302</td>\n",
              "      <td>0.017192</td>\n",
              "      <td>-0.001994</td>\n",
              "      <td>-0.002167</td>\n",
              "      <td>0.034353</td>\n",
              "      <td>0.013457</td>\n",
              "      <td>0.006288</td>\n",
              "      <td>...</td>\n",
              "      <td>0.022067</td>\n",
              "      <td>0.062620</td>\n",
              "      <td>0.016312</td>\n",
              "      <td>0.001000</td>\n",
              "      <td>0.018240</td>\n",
              "      <td>0.005749</td>\n",
              "      <td>0.000918</td>\n",
              "      <td>0.035522</td>\n",
              "      <td>-0.004330</td>\n",
              "      <td>0.026415</td>\n",
              "    </tr>\n",
              "    <tr>\n",
              "      <th>2019-01-08</th>\n",
              "      <td>0.030309</td>\n",
              "      <td>0.014918</td>\n",
              "      <td>0.008751</td>\n",
              "      <td>0.006207</td>\n",
              "      <td>0.015954</td>\n",
              "      <td>0.008783</td>\n",
              "      <td>0.007385</td>\n",
              "      <td>0.016612</td>\n",
              "      <td>0.012824</td>\n",
              "      <td>0.024396</td>\n",
              "      <td>...</td>\n",
              "      <td>0.010281</td>\n",
              "      <td>0.018450</td>\n",
              "      <td>0.036460</td>\n",
              "      <td>0.008902</td>\n",
              "      <td>0.013307</td>\n",
              "      <td>0.020009</td>\n",
              "      <td>0.021101</td>\n",
              "      <td>-0.009615</td>\n",
              "      <td>0.011597</td>\n",
              "      <td>-0.019051</td>\n",
              "    </tr>\n",
              "    <tr>\n",
              "      <th>2019-01-09</th>\n",
              "      <td>0.017210</td>\n",
              "      <td>0.011819</td>\n",
              "      <td>-0.026988</td>\n",
              "      <td>0.012430</td>\n",
              "      <td>0.038196</td>\n",
              "      <td>-0.003427</td>\n",
              "      <td>-0.001505</td>\n",
              "      <td>0.001714</td>\n",
              "      <td>-0.001196</td>\n",
              "      <td>0.025340</td>\n",
              "      <td>...</td>\n",
              "      <td>0.023745</td>\n",
              "      <td>0.018804</td>\n",
              "      <td>-0.008157</td>\n",
              "      <td>0.003781</td>\n",
              "      <td>0.023065</td>\n",
              "      <td>0.012050</td>\n",
              "      <td>-0.004612</td>\n",
              "      <td>0.044083</td>\n",
              "      <td>-0.007984</td>\n",
              "      <td>0.008972</td>\n",
              "    </tr>\n",
              "  </tbody>\n",
              "</table>\n",
              "<p>5 rows × 100 columns</p>\n",
              "</div>\n",
              "    <div class=\"colab-df-buttons\">\n",
              "\n",
              "  <div class=\"colab-df-container\">\n",
              "    <button class=\"colab-df-convert\" onclick=\"convertToInteractive('df-e87b63cd-a551-42fb-b76f-5ff4a42b305b')\"\n",
              "            title=\"Convert this dataframe to an interactive table.\"\n",
              "            style=\"display:none;\">\n",
              "\n",
              "  <svg xmlns=\"http://www.w3.org/2000/svg\" height=\"24px\" viewBox=\"0 -960 960 960\">\n",
              "    <path d=\"M120-120v-720h720v720H120Zm60-500h600v-160H180v160Zm220 220h160v-160H400v160Zm0 220h160v-160H400v160ZM180-400h160v-160H180v160Zm440 0h160v-160H620v160ZM180-180h160v-160H180v160Zm440 0h160v-160H620v160Z\"/>\n",
              "  </svg>\n",
              "    </button>\n",
              "\n",
              "  <style>\n",
              "    .colab-df-container {\n",
              "      display:flex;\n",
              "      gap: 12px;\n",
              "    }\n",
              "\n",
              "    .colab-df-convert {\n",
              "      background-color: #E8F0FE;\n",
              "      border: none;\n",
              "      border-radius: 50%;\n",
              "      cursor: pointer;\n",
              "      display: none;\n",
              "      fill: #1967D2;\n",
              "      height: 32px;\n",
              "      padding: 0 0 0 0;\n",
              "      width: 32px;\n",
              "    }\n",
              "\n",
              "    .colab-df-convert:hover {\n",
              "      background-color: #E2EBFA;\n",
              "      box-shadow: 0px 1px 2px rgba(60, 64, 67, 0.3), 0px 1px 3px 1px rgba(60, 64, 67, 0.15);\n",
              "      fill: #174EA6;\n",
              "    }\n",
              "\n",
              "    .colab-df-buttons div {\n",
              "      margin-bottom: 4px;\n",
              "    }\n",
              "\n",
              "    [theme=dark] .colab-df-convert {\n",
              "      background-color: #3B4455;\n",
              "      fill: #D2E3FC;\n",
              "    }\n",
              "\n",
              "    [theme=dark] .colab-df-convert:hover {\n",
              "      background-color: #434B5C;\n",
              "      box-shadow: 0px 1px 3px 1px rgba(0, 0, 0, 0.15);\n",
              "      filter: drop-shadow(0px 1px 2px rgba(0, 0, 0, 0.3));\n",
              "      fill: #FFFFFF;\n",
              "    }\n",
              "  </style>\n",
              "\n",
              "    <script>\n",
              "      const buttonEl =\n",
              "        document.querySelector('#df-e87b63cd-a551-42fb-b76f-5ff4a42b305b button.colab-df-convert');\n",
              "      buttonEl.style.display =\n",
              "        google.colab.kernel.accessAllowed ? 'block' : 'none';\n",
              "\n",
              "      async function convertToInteractive(key) {\n",
              "        const element = document.querySelector('#df-e87b63cd-a551-42fb-b76f-5ff4a42b305b');\n",
              "        const dataTable =\n",
              "          await google.colab.kernel.invokeFunction('convertToInteractive',\n",
              "                                                    [key], {});\n",
              "        if (!dataTable) return;\n",
              "\n",
              "        const docLinkHtml = 'Like what you see? Visit the ' +\n",
              "          '<a target=\"_blank\" href=https://colab.research.google.com/notebooks/data_table.ipynb>data table notebook</a>'\n",
              "          + ' to learn more about interactive tables.';\n",
              "        element.innerHTML = '';\n",
              "        dataTable['output_type'] = 'display_data';\n",
              "        await google.colab.output.renderOutput(dataTable, element);\n",
              "        const docLink = document.createElement('div');\n",
              "        docLink.innerHTML = docLinkHtml;\n",
              "        element.appendChild(docLink);\n",
              "      }\n",
              "    </script>\n",
              "  </div>\n",
              "\n",
              "\n",
              "    <div id=\"df-60010dfe-a154-47c0-adef-51d856050e78\">\n",
              "      <button class=\"colab-df-quickchart\" onclick=\"quickchart('df-60010dfe-a154-47c0-adef-51d856050e78')\"\n",
              "                title=\"Suggest charts\"\n",
              "                style=\"display:none;\">\n",
              "\n",
              "<svg xmlns=\"http://www.w3.org/2000/svg\" height=\"24px\"viewBox=\"0 0 24 24\"\n",
              "     width=\"24px\">\n",
              "    <g>\n",
              "        <path d=\"M19 3H5c-1.1 0-2 .9-2 2v14c0 1.1.9 2 2 2h14c1.1 0 2-.9 2-2V5c0-1.1-.9-2-2-2zM9 17H7v-7h2v7zm4 0h-2V7h2v10zm4 0h-2v-4h2v4z\"/>\n",
              "    </g>\n",
              "</svg>\n",
              "      </button>\n",
              "\n",
              "<style>\n",
              "  .colab-df-quickchart {\n",
              "      --bg-color: #E8F0FE;\n",
              "      --fill-color: #1967D2;\n",
              "      --hover-bg-color: #E2EBFA;\n",
              "      --hover-fill-color: #174EA6;\n",
              "      --disabled-fill-color: #AAA;\n",
              "      --disabled-bg-color: #DDD;\n",
              "  }\n",
              "\n",
              "  [theme=dark] .colab-df-quickchart {\n",
              "      --bg-color: #3B4455;\n",
              "      --fill-color: #D2E3FC;\n",
              "      --hover-bg-color: #434B5C;\n",
              "      --hover-fill-color: #FFFFFF;\n",
              "      --disabled-bg-color: #3B4455;\n",
              "      --disabled-fill-color: #666;\n",
              "  }\n",
              "\n",
              "  .colab-df-quickchart {\n",
              "    background-color: var(--bg-color);\n",
              "    border: none;\n",
              "    border-radius: 50%;\n",
              "    cursor: pointer;\n",
              "    display: none;\n",
              "    fill: var(--fill-color);\n",
              "    height: 32px;\n",
              "    padding: 0;\n",
              "    width: 32px;\n",
              "  }\n",
              "\n",
              "  .colab-df-quickchart:hover {\n",
              "    background-color: var(--hover-bg-color);\n",
              "    box-shadow: 0 1px 2px rgba(60, 64, 67, 0.3), 0 1px 3px 1px rgba(60, 64, 67, 0.15);\n",
              "    fill: var(--button-hover-fill-color);\n",
              "  }\n",
              "\n",
              "  .colab-df-quickchart-complete:disabled,\n",
              "  .colab-df-quickchart-complete:disabled:hover {\n",
              "    background-color: var(--disabled-bg-color);\n",
              "    fill: var(--disabled-fill-color);\n",
              "    box-shadow: none;\n",
              "  }\n",
              "\n",
              "  .colab-df-spinner {\n",
              "    border: 2px solid var(--fill-color);\n",
              "    border-color: transparent;\n",
              "    border-bottom-color: var(--fill-color);\n",
              "    animation:\n",
              "      spin 1s steps(1) infinite;\n",
              "  }\n",
              "\n",
              "  @keyframes spin {\n",
              "    0% {\n",
              "      border-color: transparent;\n",
              "      border-bottom-color: var(--fill-color);\n",
              "      border-left-color: var(--fill-color);\n",
              "    }\n",
              "    20% {\n",
              "      border-color: transparent;\n",
              "      border-left-color: var(--fill-color);\n",
              "      border-top-color: var(--fill-color);\n",
              "    }\n",
              "    30% {\n",
              "      border-color: transparent;\n",
              "      border-left-color: var(--fill-color);\n",
              "      border-top-color: var(--fill-color);\n",
              "      border-right-color: var(--fill-color);\n",
              "    }\n",
              "    40% {\n",
              "      border-color: transparent;\n",
              "      border-right-color: var(--fill-color);\n",
              "      border-top-color: var(--fill-color);\n",
              "    }\n",
              "    60% {\n",
              "      border-color: transparent;\n",
              "      border-right-color: var(--fill-color);\n",
              "    }\n",
              "    80% {\n",
              "      border-color: transparent;\n",
              "      border-right-color: var(--fill-color);\n",
              "      border-bottom-color: var(--fill-color);\n",
              "    }\n",
              "    90% {\n",
              "      border-color: transparent;\n",
              "      border-bottom-color: var(--fill-color);\n",
              "    }\n",
              "  }\n",
              "</style>\n",
              "\n",
              "      <script>\n",
              "        async function quickchart(key) {\n",
              "          const quickchartButtonEl =\n",
              "            document.querySelector('#' + key + ' button');\n",
              "          quickchartButtonEl.disabled = true;  // To prevent multiple clicks.\n",
              "          quickchartButtonEl.classList.add('colab-df-spinner');\n",
              "          try {\n",
              "            const charts = await google.colab.kernel.invokeFunction(\n",
              "                'suggestCharts', [key], {});\n",
              "          } catch (error) {\n",
              "            console.error('Error during call to suggestCharts:', error);\n",
              "          }\n",
              "          quickchartButtonEl.classList.remove('colab-df-spinner');\n",
              "          quickchartButtonEl.classList.add('colab-df-quickchart-complete');\n",
              "        }\n",
              "        (() => {\n",
              "          let quickchartButtonEl =\n",
              "            document.querySelector('#df-60010dfe-a154-47c0-adef-51d856050e78 button');\n",
              "          quickchartButtonEl.style.display =\n",
              "            google.colab.kernel.accessAllowed ? 'block' : 'none';\n",
              "        })();\n",
              "      </script>\n",
              "    </div>\n",
              "\n",
              "    </div>\n",
              "  </div>\n"
            ],
            "application/vnd.google.colaboratory.intrinsic+json": {
              "type": "dataframe",
              "variable_name": "returns_2019_clean"
            }
          },
          "metadata": {},
          "execution_count": 85
        }
      ]
    },
    {
      "cell_type": "code",
      "source": [
        "# Take a look at the 2020 data\n",
        "returns_2020_clean.head()"
      ],
      "metadata": {
        "colab": {
          "base_uri": "https://localhost:8080/",
          "height": 373
        },
        "id": "_9rPEoyfjk7C",
        "outputId": "2d05110f-8286-4ef5-eb7c-cd9624f86aaf"
      },
      "execution_count": 86,
      "outputs": [
        {
          "output_type": "execute_result",
          "data": {
            "text/plain": [
              "                ATVI      ADBE       AMD      ALXN      ALGN     GOOGL  \\\n",
              "Date                                                                     \n",
              "2020-01-03  0.000341 -0.007834 -0.010183 -0.013260 -0.011421 -0.005231   \n",
              "2020-01-06  0.018238  0.005726 -0.004321  0.001598  0.019398  0.026654   \n",
              "2020-01-07  0.010043 -0.000959 -0.002893  0.002533 -0.009864 -0.001932   \n",
              "2020-01-08 -0.007623  0.013438 -0.008705  0.016191  0.010386  0.007118   \n",
              "2020-01-09 -0.009018  0.007636  0.023834  0.019893  0.036853  0.010498   \n",
              "\n",
              "                GOOG      AMZN      AMGN       ADI  ...      TCOM      ULTA  \\\n",
              "Date                                                ...                       \n",
              "2020-01-03 -0.004907 -0.012139 -0.006789 -0.017604  ... -0.021369 -0.017207   \n",
              "2020-01-06  0.024657  0.014886  0.007674 -0.011749  ... -0.013543  0.003118   \n",
              "2020-01-07 -0.000624  0.002092 -0.009405  0.022751  ...  0.045951  0.008528   \n",
              "2020-01-08  0.007880 -0.007809  0.000756  0.009032  ... -0.012323  0.019400   \n",
              "2020-01-09  0.011044  0.004799  0.002980  0.000000  ...  0.006781  0.021318   \n",
              "\n",
              "                VRSN      VRSK      VRTX       WBA      WDAY       WDC  \\\n",
              "Date                                                                     \n",
              "2020-01-03  0.021095  0.009728 -0.006699  0.000000  0.005852 -0.015392   \n",
              "2020-01-06  0.009259  0.002294  0.027755  0.008632  0.006234 -0.019192   \n",
              "2020-01-07  0.002318  0.008369 -0.001071 -0.005035  0.020414  0.067698   \n",
              "2020-01-08  0.004626  0.009208  0.032620 -0.058357  0.033304  0.014484   \n",
              "2020-01-09  0.023169  0.009638 -0.003592 -0.020598  0.004309 -0.000291   \n",
              "\n",
              "                 XEL      XLNX  \n",
              "Date                            \n",
              "2020-01-03  0.004809 -0.023020  \n",
              "2020-01-06 -0.001436 -0.020844  \n",
              "2020-01-07 -0.002077  0.022830  \n",
              "2020-01-08 -0.000961 -0.002815  \n",
              "2020-01-09  0.002244  0.023493  \n",
              "\n",
              "[5 rows x 100 columns]"
            ],
            "text/html": [
              "\n",
              "  <div id=\"df-ba154cdb-f3ad-4172-8b11-a34e75a3ac0b\" class=\"colab-df-container\">\n",
              "    <div>\n",
              "<style scoped>\n",
              "    .dataframe tbody tr th:only-of-type {\n",
              "        vertical-align: middle;\n",
              "    }\n",
              "\n",
              "    .dataframe tbody tr th {\n",
              "        vertical-align: top;\n",
              "    }\n",
              "\n",
              "    .dataframe thead th {\n",
              "        text-align: right;\n",
              "    }\n",
              "</style>\n",
              "<table border=\"1\" class=\"dataframe\">\n",
              "  <thead>\n",
              "    <tr style=\"text-align: right;\">\n",
              "      <th></th>\n",
              "      <th>ATVI</th>\n",
              "      <th>ADBE</th>\n",
              "      <th>AMD</th>\n",
              "      <th>ALXN</th>\n",
              "      <th>ALGN</th>\n",
              "      <th>GOOGL</th>\n",
              "      <th>GOOG</th>\n",
              "      <th>AMZN</th>\n",
              "      <th>AMGN</th>\n",
              "      <th>ADI</th>\n",
              "      <th>...</th>\n",
              "      <th>TCOM</th>\n",
              "      <th>ULTA</th>\n",
              "      <th>VRSN</th>\n",
              "      <th>VRSK</th>\n",
              "      <th>VRTX</th>\n",
              "      <th>WBA</th>\n",
              "      <th>WDAY</th>\n",
              "      <th>WDC</th>\n",
              "      <th>XEL</th>\n",
              "      <th>XLNX</th>\n",
              "    </tr>\n",
              "    <tr>\n",
              "      <th>Date</th>\n",
              "      <th></th>\n",
              "      <th></th>\n",
              "      <th></th>\n",
              "      <th></th>\n",
              "      <th></th>\n",
              "      <th></th>\n",
              "      <th></th>\n",
              "      <th></th>\n",
              "      <th></th>\n",
              "      <th></th>\n",
              "      <th></th>\n",
              "      <th></th>\n",
              "      <th></th>\n",
              "      <th></th>\n",
              "      <th></th>\n",
              "      <th></th>\n",
              "      <th></th>\n",
              "      <th></th>\n",
              "      <th></th>\n",
              "      <th></th>\n",
              "      <th></th>\n",
              "    </tr>\n",
              "  </thead>\n",
              "  <tbody>\n",
              "    <tr>\n",
              "      <th>2020-01-03</th>\n",
              "      <td>0.000341</td>\n",
              "      <td>-0.007834</td>\n",
              "      <td>-0.010183</td>\n",
              "      <td>-0.013260</td>\n",
              "      <td>-0.011421</td>\n",
              "      <td>-0.005231</td>\n",
              "      <td>-0.004907</td>\n",
              "      <td>-0.012139</td>\n",
              "      <td>-0.006789</td>\n",
              "      <td>-0.017604</td>\n",
              "      <td>...</td>\n",
              "      <td>-0.021369</td>\n",
              "      <td>-0.017207</td>\n",
              "      <td>0.021095</td>\n",
              "      <td>0.009728</td>\n",
              "      <td>-0.006699</td>\n",
              "      <td>0.000000</td>\n",
              "      <td>0.005852</td>\n",
              "      <td>-0.015392</td>\n",
              "      <td>0.004809</td>\n",
              "      <td>-0.023020</td>\n",
              "    </tr>\n",
              "    <tr>\n",
              "      <th>2020-01-06</th>\n",
              "      <td>0.018238</td>\n",
              "      <td>0.005726</td>\n",
              "      <td>-0.004321</td>\n",
              "      <td>0.001598</td>\n",
              "      <td>0.019398</td>\n",
              "      <td>0.026654</td>\n",
              "      <td>0.024657</td>\n",
              "      <td>0.014886</td>\n",
              "      <td>0.007674</td>\n",
              "      <td>-0.011749</td>\n",
              "      <td>...</td>\n",
              "      <td>-0.013543</td>\n",
              "      <td>0.003118</td>\n",
              "      <td>0.009259</td>\n",
              "      <td>0.002294</td>\n",
              "      <td>0.027755</td>\n",
              "      <td>0.008632</td>\n",
              "      <td>0.006234</td>\n",
              "      <td>-0.019192</td>\n",
              "      <td>-0.001436</td>\n",
              "      <td>-0.020844</td>\n",
              "    </tr>\n",
              "    <tr>\n",
              "      <th>2020-01-07</th>\n",
              "      <td>0.010043</td>\n",
              "      <td>-0.000959</td>\n",
              "      <td>-0.002893</td>\n",
              "      <td>0.002533</td>\n",
              "      <td>-0.009864</td>\n",
              "      <td>-0.001932</td>\n",
              "      <td>-0.000624</td>\n",
              "      <td>0.002092</td>\n",
              "      <td>-0.009405</td>\n",
              "      <td>0.022751</td>\n",
              "      <td>...</td>\n",
              "      <td>0.045951</td>\n",
              "      <td>0.008528</td>\n",
              "      <td>0.002318</td>\n",
              "      <td>0.008369</td>\n",
              "      <td>-0.001071</td>\n",
              "      <td>-0.005035</td>\n",
              "      <td>0.020414</td>\n",
              "      <td>0.067698</td>\n",
              "      <td>-0.002077</td>\n",
              "      <td>0.022830</td>\n",
              "    </tr>\n",
              "    <tr>\n",
              "      <th>2020-01-08</th>\n",
              "      <td>-0.007623</td>\n",
              "      <td>0.013438</td>\n",
              "      <td>-0.008705</td>\n",
              "      <td>0.016191</td>\n",
              "      <td>0.010386</td>\n",
              "      <td>0.007118</td>\n",
              "      <td>0.007880</td>\n",
              "      <td>-0.007809</td>\n",
              "      <td>0.000756</td>\n",
              "      <td>0.009032</td>\n",
              "      <td>...</td>\n",
              "      <td>-0.012323</td>\n",
              "      <td>0.019400</td>\n",
              "      <td>0.004626</td>\n",
              "      <td>0.009208</td>\n",
              "      <td>0.032620</td>\n",
              "      <td>-0.058357</td>\n",
              "      <td>0.033304</td>\n",
              "      <td>0.014484</td>\n",
              "      <td>-0.000961</td>\n",
              "      <td>-0.002815</td>\n",
              "    </tr>\n",
              "    <tr>\n",
              "      <th>2020-01-09</th>\n",
              "      <td>-0.009018</td>\n",
              "      <td>0.007636</td>\n",
              "      <td>0.023834</td>\n",
              "      <td>0.019893</td>\n",
              "      <td>0.036853</td>\n",
              "      <td>0.010498</td>\n",
              "      <td>0.011044</td>\n",
              "      <td>0.004799</td>\n",
              "      <td>0.002980</td>\n",
              "      <td>0.000000</td>\n",
              "      <td>...</td>\n",
              "      <td>0.006781</td>\n",
              "      <td>0.021318</td>\n",
              "      <td>0.023169</td>\n",
              "      <td>0.009638</td>\n",
              "      <td>-0.003592</td>\n",
              "      <td>-0.020598</td>\n",
              "      <td>0.004309</td>\n",
              "      <td>-0.000291</td>\n",
              "      <td>0.002244</td>\n",
              "      <td>0.023493</td>\n",
              "    </tr>\n",
              "  </tbody>\n",
              "</table>\n",
              "<p>5 rows × 100 columns</p>\n",
              "</div>\n",
              "    <div class=\"colab-df-buttons\">\n",
              "\n",
              "  <div class=\"colab-df-container\">\n",
              "    <button class=\"colab-df-convert\" onclick=\"convertToInteractive('df-ba154cdb-f3ad-4172-8b11-a34e75a3ac0b')\"\n",
              "            title=\"Convert this dataframe to an interactive table.\"\n",
              "            style=\"display:none;\">\n",
              "\n",
              "  <svg xmlns=\"http://www.w3.org/2000/svg\" height=\"24px\" viewBox=\"0 -960 960 960\">\n",
              "    <path d=\"M120-120v-720h720v720H120Zm60-500h600v-160H180v160Zm220 220h160v-160H400v160Zm0 220h160v-160H400v160ZM180-400h160v-160H180v160Zm440 0h160v-160H620v160ZM180-180h160v-160H180v160Zm440 0h160v-160H620v160Z\"/>\n",
              "  </svg>\n",
              "    </button>\n",
              "\n",
              "  <style>\n",
              "    .colab-df-container {\n",
              "      display:flex;\n",
              "      gap: 12px;\n",
              "    }\n",
              "\n",
              "    .colab-df-convert {\n",
              "      background-color: #E8F0FE;\n",
              "      border: none;\n",
              "      border-radius: 50%;\n",
              "      cursor: pointer;\n",
              "      display: none;\n",
              "      fill: #1967D2;\n",
              "      height: 32px;\n",
              "      padding: 0 0 0 0;\n",
              "      width: 32px;\n",
              "    }\n",
              "\n",
              "    .colab-df-convert:hover {\n",
              "      background-color: #E2EBFA;\n",
              "      box-shadow: 0px 1px 2px rgba(60, 64, 67, 0.3), 0px 1px 3px 1px rgba(60, 64, 67, 0.15);\n",
              "      fill: #174EA6;\n",
              "    }\n",
              "\n",
              "    .colab-df-buttons div {\n",
              "      margin-bottom: 4px;\n",
              "    }\n",
              "\n",
              "    [theme=dark] .colab-df-convert {\n",
              "      background-color: #3B4455;\n",
              "      fill: #D2E3FC;\n",
              "    }\n",
              "\n",
              "    [theme=dark] .colab-df-convert:hover {\n",
              "      background-color: #434B5C;\n",
              "      box-shadow: 0px 1px 3px 1px rgba(0, 0, 0, 0.15);\n",
              "      filter: drop-shadow(0px 1px 2px rgba(0, 0, 0, 0.3));\n",
              "      fill: #FFFFFF;\n",
              "    }\n",
              "  </style>\n",
              "\n",
              "    <script>\n",
              "      const buttonEl =\n",
              "        document.querySelector('#df-ba154cdb-f3ad-4172-8b11-a34e75a3ac0b button.colab-df-convert');\n",
              "      buttonEl.style.display =\n",
              "        google.colab.kernel.accessAllowed ? 'block' : 'none';\n",
              "\n",
              "      async function convertToInteractive(key) {\n",
              "        const element = document.querySelector('#df-ba154cdb-f3ad-4172-8b11-a34e75a3ac0b');\n",
              "        const dataTable =\n",
              "          await google.colab.kernel.invokeFunction('convertToInteractive',\n",
              "                                                    [key], {});\n",
              "        if (!dataTable) return;\n",
              "\n",
              "        const docLinkHtml = 'Like what you see? Visit the ' +\n",
              "          '<a target=\"_blank\" href=https://colab.research.google.com/notebooks/data_table.ipynb>data table notebook</a>'\n",
              "          + ' to learn more about interactive tables.';\n",
              "        element.innerHTML = '';\n",
              "        dataTable['output_type'] = 'display_data';\n",
              "        await google.colab.output.renderOutput(dataTable, element);\n",
              "        const docLink = document.createElement('div');\n",
              "        docLink.innerHTML = docLinkHtml;\n",
              "        element.appendChild(docLink);\n",
              "      }\n",
              "    </script>\n",
              "  </div>\n",
              "\n",
              "\n",
              "    <div id=\"df-1643dd8d-87f2-4b85-8eb0-a14b0cbe3fd8\">\n",
              "      <button class=\"colab-df-quickchart\" onclick=\"quickchart('df-1643dd8d-87f2-4b85-8eb0-a14b0cbe3fd8')\"\n",
              "                title=\"Suggest charts\"\n",
              "                style=\"display:none;\">\n",
              "\n",
              "<svg xmlns=\"http://www.w3.org/2000/svg\" height=\"24px\"viewBox=\"0 0 24 24\"\n",
              "     width=\"24px\">\n",
              "    <g>\n",
              "        <path d=\"M19 3H5c-1.1 0-2 .9-2 2v14c0 1.1.9 2 2 2h14c1.1 0 2-.9 2-2V5c0-1.1-.9-2-2-2zM9 17H7v-7h2v7zm4 0h-2V7h2v10zm4 0h-2v-4h2v4z\"/>\n",
              "    </g>\n",
              "</svg>\n",
              "      </button>\n",
              "\n",
              "<style>\n",
              "  .colab-df-quickchart {\n",
              "      --bg-color: #E8F0FE;\n",
              "      --fill-color: #1967D2;\n",
              "      --hover-bg-color: #E2EBFA;\n",
              "      --hover-fill-color: #174EA6;\n",
              "      --disabled-fill-color: #AAA;\n",
              "      --disabled-bg-color: #DDD;\n",
              "  }\n",
              "\n",
              "  [theme=dark] .colab-df-quickchart {\n",
              "      --bg-color: #3B4455;\n",
              "      --fill-color: #D2E3FC;\n",
              "      --hover-bg-color: #434B5C;\n",
              "      --hover-fill-color: #FFFFFF;\n",
              "      --disabled-bg-color: #3B4455;\n",
              "      --disabled-fill-color: #666;\n",
              "  }\n",
              "\n",
              "  .colab-df-quickchart {\n",
              "    background-color: var(--bg-color);\n",
              "    border: none;\n",
              "    border-radius: 50%;\n",
              "    cursor: pointer;\n",
              "    display: none;\n",
              "    fill: var(--fill-color);\n",
              "    height: 32px;\n",
              "    padding: 0;\n",
              "    width: 32px;\n",
              "  }\n",
              "\n",
              "  .colab-df-quickchart:hover {\n",
              "    background-color: var(--hover-bg-color);\n",
              "    box-shadow: 0 1px 2px rgba(60, 64, 67, 0.3), 0 1px 3px 1px rgba(60, 64, 67, 0.15);\n",
              "    fill: var(--button-hover-fill-color);\n",
              "  }\n",
              "\n",
              "  .colab-df-quickchart-complete:disabled,\n",
              "  .colab-df-quickchart-complete:disabled:hover {\n",
              "    background-color: var(--disabled-bg-color);\n",
              "    fill: var(--disabled-fill-color);\n",
              "    box-shadow: none;\n",
              "  }\n",
              "\n",
              "  .colab-df-spinner {\n",
              "    border: 2px solid var(--fill-color);\n",
              "    border-color: transparent;\n",
              "    border-bottom-color: var(--fill-color);\n",
              "    animation:\n",
              "      spin 1s steps(1) infinite;\n",
              "  }\n",
              "\n",
              "  @keyframes spin {\n",
              "    0% {\n",
              "      border-color: transparent;\n",
              "      border-bottom-color: var(--fill-color);\n",
              "      border-left-color: var(--fill-color);\n",
              "    }\n",
              "    20% {\n",
              "      border-color: transparent;\n",
              "      border-left-color: var(--fill-color);\n",
              "      border-top-color: var(--fill-color);\n",
              "    }\n",
              "    30% {\n",
              "      border-color: transparent;\n",
              "      border-left-color: var(--fill-color);\n",
              "      border-top-color: var(--fill-color);\n",
              "      border-right-color: var(--fill-color);\n",
              "    }\n",
              "    40% {\n",
              "      border-color: transparent;\n",
              "      border-right-color: var(--fill-color);\n",
              "      border-top-color: var(--fill-color);\n",
              "    }\n",
              "    60% {\n",
              "      border-color: transparent;\n",
              "      border-right-color: var(--fill-color);\n",
              "    }\n",
              "    80% {\n",
              "      border-color: transparent;\n",
              "      border-right-color: var(--fill-color);\n",
              "      border-bottom-color: var(--fill-color);\n",
              "    }\n",
              "    90% {\n",
              "      border-color: transparent;\n",
              "      border-bottom-color: var(--fill-color);\n",
              "    }\n",
              "  }\n",
              "</style>\n",
              "\n",
              "      <script>\n",
              "        async function quickchart(key) {\n",
              "          const quickchartButtonEl =\n",
              "            document.querySelector('#' + key + ' button');\n",
              "          quickchartButtonEl.disabled = true;  // To prevent multiple clicks.\n",
              "          quickchartButtonEl.classList.add('colab-df-spinner');\n",
              "          try {\n",
              "            const charts = await google.colab.kernel.invokeFunction(\n",
              "                'suggestCharts', [key], {});\n",
              "          } catch (error) {\n",
              "            console.error('Error during call to suggestCharts:', error);\n",
              "          }\n",
              "          quickchartButtonEl.classList.remove('colab-df-spinner');\n",
              "          quickchartButtonEl.classList.add('colab-df-quickchart-complete');\n",
              "        }\n",
              "        (() => {\n",
              "          let quickchartButtonEl =\n",
              "            document.querySelector('#df-1643dd8d-87f2-4b85-8eb0-a14b0cbe3fd8 button');\n",
              "          quickchartButtonEl.style.display =\n",
              "            google.colab.kernel.accessAllowed ? 'block' : 'none';\n",
              "        })();\n",
              "      </script>\n",
              "    </div>\n",
              "\n",
              "    </div>\n",
              "  </div>\n"
            ],
            "application/vnd.google.colaboratory.intrinsic+json": {
              "type": "dataframe",
              "variable_name": "returns_2020_clean"
            }
          },
          "metadata": {},
          "execution_count": 86
        }
      ]
    },
    {
      "cell_type": "markdown",
      "source": [
        "## **Part 2: Base CVaR Optimization**"
      ],
      "metadata": {
        "id": "QW2wIwGBHDPZ"
      }
    },
    {
      "cell_type": "markdown",
      "source": [
        "Finding portfolio that minimizes the daily average beta-CVaR using the 2019 data. Use beta = 0.95 and R = 0.02%"
      ],
      "metadata": {
        "id": "uzDbrrnkDhvt"
      }
    },
    {
      "cell_type": "code",
      "source": [
        "# set inputs\n",
        "beta_2019 = 0.95\n",
        "R_2019 = 0.0002"
      ],
      "metadata": {
        "id": "RY2Zy43okPsl"
      },
      "execution_count": 122,
      "outputs": []
    },
    {
      "cell_type": "code",
      "source": [
        "# Get number of stocks variable; NASDAQ consist of 100 stocks\n",
        "num_stocks_2019 = returns_2019_clean.shape[1]\n",
        "num_stocks_2019"
      ],
      "metadata": {
        "colab": {
          "base_uri": "https://localhost:8080/"
        },
        "id": "zZrdSlX5ErsH",
        "outputId": "091bc8d7-fab7-4f1a-8bd0-6b81dc5b3909"
      },
      "execution_count": 123,
      "outputs": [
        {
          "output_type": "execute_result",
          "data": {
            "text/plain": [
              "100"
            ]
          },
          "metadata": {},
          "execution_count": 123
        }
      ]
    },
    {
      "cell_type": "code",
      "source": [
        "# Get number of days variable q\n",
        "num_days_2019 = returns_2019_clean.shape[0]\n",
        "num_days_2019"
      ],
      "metadata": {
        "colab": {
          "base_uri": "https://localhost:8080/"
        },
        "id": "jOmy6yCRDrhA",
        "outputId": "c75caae6-9148-40c9-e8b0-983f16390b1a"
      },
      "execution_count": 124,
      "outputs": [
        {
          "output_type": "execute_result",
          "data": {
            "text/plain": [
              "250"
            ]
          },
          "metadata": {},
          "execution_count": 124
        }
      ]
    },
    {
      "cell_type": "code",
      "source": [
        "returns_2019_clean.values"
      ],
      "metadata": {
        "colab": {
          "base_uri": "https://localhost:8080/"
        },
        "id": "qYgOFNA0TXAl",
        "outputId": "89be87ea-c950-4efc-f8c2-7274f6a069f7"
      },
      "execution_count": 121,
      "outputs": [
        {
          "output_type": "execute_result",
          "data": {
            "text/plain": [
              "array([[-0.03550922, -0.03949775, -0.09453006, ..., -0.0682175 ,\n",
              "        -0.00394022, -0.03765113],\n",
              "       [ 0.039903  ,  0.04863238,  0.11436957, ...,  0.04235632,\n",
              "         0.00978569,  0.04630285],\n",
              "       [ 0.02819594,  0.01357263,  0.08263158, ...,  0.03552204,\n",
              "        -0.00432994,  0.02641526],\n",
              "       ...,\n",
              "       [ 0.00136029,  0.00473243,  0.00193382, ...,  0.00915956,\n",
              "        -0.00111356,  0.0019291 ],\n",
              "       [ 0.00509428, -0.00123793, -0.00965046, ..., -0.01066874,\n",
              "         0.00525556, -0.00263481],\n",
              "       [-0.00523733, -0.00740655, -0.0142919 , ...,  0.00402381,\n",
              "         0.00269325, -0.0075187 ]])"
            ]
          },
          "metadata": {},
          "execution_count": 121
        }
      ]
    },
    {
      "cell_type": "code",
      "source": [
        "# Create the Gurobi model\n",
        "CVaR_model_2019 = gp.Model(\"CVaR_Optimization_2019\")\n",
        "\n",
        "# Add/Define decision variables\n",
        "x_2019 = CVaR_model_2019.addMVar(num_stocks_2019, lb=0.0, name=\"weights\") # here set non-negative contraint\n",
        "alpha_2019 = CVaR_model_2019.addMVar(1, name=\"VaR\")\n",
        "u_2019 = CVaR_model_2019.addMVar(num_days_2019, lb=0.0, name=\"excess_loss\") # here set non-negative contraint\n",
        "\n",
        "# Set the objective function: Minimize CVaR\n",
        "CVaR_model_2019.setObjective(alpha_2019 + (1 / ((1 - beta_2019) * num_days_2019)) * u_2019.sum(), gp.GRB.MINIMIZE)\n",
        "\n",
        "# Add constraints (@ is for matrix operation)\n",
        "CVaR_model_2019.addConstr(x_2019.sum() == 1, name=\"weights_sum_one_constraint\")\n",
        "CVaR_model_2019.addConstr(returns_2019_clean.mean().values @ x_2019 >= R_2019, name=\"min_return_constraint\")\n",
        "CVaR_model_2019.addConstr(-returns_2019_clean.values @ x_2019 - alpha_2019 <= u_2019, name=\"excess_loss_constraint\")\n",
        "\n",
        "# Solve the model\n",
        "CVaR_model_2019.Params.OutputFlag = 0 # Suppress Gurobi output\n",
        "CVaR_model_2019.optimize()"
      ],
      "metadata": {
        "id": "z-0kOC4kkP1J"
      },
      "execution_count": 125,
      "outputs": []
    },
    {
      "cell_type": "code",
      "source": [
        "# Extract solutions\n",
        "# Portfolio weights\n",
        "print(x_2019.x)"
      ],
      "metadata": {
        "colab": {
          "base_uri": "https://localhost:8080/"
        },
        "id": "ELukXqr1XIOY",
        "outputId": "c139e1cd-f23a-443c-f418-b0e17151c586"
      },
      "execution_count": 126,
      "outputs": [
        {
          "output_type": "stream",
          "name": "stdout",
          "text": [
            "[0.         0.         0.         0.         0.         0.\n",
            " 0.         0.         0.08076593 0.         0.         0.\n",
            " 0.         0.         0.         0.         0.         0.\n",
            " 0.         0.         0.         0.         0.         0.\n",
            " 0.26496489 0.0626959  0.         0.         0.06561376 0.01963614\n",
            " 0.         0.         0.03035228 0.03431195 0.         0.\n",
            " 0.         0.02348597 0.         0.05215454 0.         0.\n",
            " 0.         0.         0.         0.         0.         0.\n",
            " 0.         0.         0.         0.01978987 0.         0.04050981\n",
            " 0.         0.         0.         0.00180162 0.         0.\n",
            " 0.         0.         0.         0.         0.         0.\n",
            " 0.         0.         0.         0.         0.         0.\n",
            " 0.         0.         0.         0.         0.         0.\n",
            " 0.         0.         0.         0.         0.         0.\n",
            " 0.         0.         0.         0.         0.         0.\n",
            " 0.         0.         0.         0.         0.         0.\n",
            " 0.         0.         0.30391733 0.        ]\n"
          ]
        }
      ]
    },
    {
      "cell_type": "code",
      "source": [
        "# Alpha\n",
        "print(alpha_2019.x)"
      ],
      "metadata": {
        "colab": {
          "base_uri": "https://localhost:8080/"
        },
        "id": "XzPC9pCpXRtH",
        "outputId": "7e202ac2-8894-4d99-edf3-33a51277df42"
      },
      "execution_count": 127,
      "outputs": [
        {
          "output_type": "stream",
          "name": "stdout",
          "text": [
            "[0.00850042]\n"
          ]
        }
      ]
    },
    {
      "cell_type": "code",
      "source": [
        "# Excess loss variable\n",
        "#print(u_2019.x)"
      ],
      "metadata": {
        "id": "CzOBEtEmXTG_"
      },
      "execution_count": 93,
      "outputs": []
    },
    {
      "cell_type": "code",
      "source": [
        "# optimal objective value - Minimum CVaR\n",
        "CVaR_model_2019.objVal"
      ],
      "metadata": {
        "colab": {
          "base_uri": "https://localhost:8080/"
        },
        "id": "uobuODS9YKwN",
        "outputId": "d69a3138-0a4d-464a-e74c-c82eeb0d9c4f"
      },
      "execution_count": 128,
      "outputs": [
        {
          "output_type": "execute_result",
          "data": {
            "text/plain": [
              "0.011089668286016466"
            ]
          },
          "metadata": {},
          "execution_count": 128
        }
      ]
    },
    {
      "cell_type": "markdown",
      "source": [
        "If you keep using the 2019 portfolio in 2020, what is the daily average B-CVaR in 2020? Is it a\n",
        "good idea to stick with the same portfolio across different years? Briefly justify using the differences\n",
        "between in-sample and out-of-sample daily average CVaR, and comment on potential non-stationarity."
      ],
      "metadata": {
        "id": "sxGVNTwCYy4Z"
      }
    },
    {
      "cell_type": "code",
      "source": [
        "# Use the optimal portfolio from 2019 to calculate losses in 2020\n",
        "losses_2020 = -returns_2020_clean.values @ x_2019.x\n",
        "num_days_2020 = len(losses_2020)\n",
        "num_days_2020"
      ],
      "metadata": {
        "colab": {
          "base_uri": "https://localhost:8080/"
        },
        "id": "XmIzXMKvcvwa",
        "outputId": "76fabd8e-e61f-4df1-bebf-574b481a6bbb"
      },
      "execution_count": 95,
      "outputs": [
        {
          "output_type": "execute_result",
          "data": {
            "text/plain": [
              "251"
            ]
          },
          "metadata": {},
          "execution_count": 95
        }
      ]
    },
    {
      "cell_type": "code",
      "source": [
        "# To find the out-of-sample CVaR (keep using the 2019 portfolio in 2020)\n",
        "# where the portfolio is fixed, and we only find the VaR (alpha) and excess losses (u)\n",
        "\n",
        "# Create the Gurobi model\n",
        "oos_model_2020 = gp.Model(\"OutOfSampleCVaR_2020\")\n",
        "\n",
        "# Add/Define decision variables\n",
        "oos_alpha_2020 = oos_model_2020.addMVar(1, name=\"oos_VaR\")\n",
        "oos_u_2020 = oos_model_2020.addMVar(num_days_2020, lb=0.0, name=\"oos_excess_loss\")\n",
        "\n",
        "# Set the objective function: Minimize CVaR\n",
        "oos_model_2020.setObjective(oos_alpha_2020 + (1 / ((1 - beta_2019) * num_days_2020)) * oos_u_2020.sum(), gp.GRB.MINIMIZE)\n",
        "\n",
        "# Add constraints (@ is for matrix operation)\n",
        "oos_model_2020.addConstr(losses_2020 - oos_alpha_2020 <= oos_u_2020)\n",
        "\n",
        "# Solve the model\n",
        "oos_model_2020.Params.OutputFlag = 0 # Suppress Gurobi output\n",
        "oos_model_2020.optimize()"
      ],
      "metadata": {
        "id": "xWnivac6YzAd"
      },
      "execution_count": 96,
      "outputs": []
    },
    {
      "cell_type": "code",
      "source": [
        "# Alpha - VaR\n",
        "print(oos_alpha_2020.x)"
      ],
      "metadata": {
        "colab": {
          "base_uri": "https://localhost:8080/"
        },
        "id": "V6AtTLyVYzay",
        "outputId": "8fe7111b-988b-442a-fd1d-0743af2a8b83"
      },
      "execution_count": 97,
      "outputs": [
        {
          "output_type": "stream",
          "name": "stdout",
          "text": [
            "[0.02538879]\n"
          ]
        }
      ]
    },
    {
      "cell_type": "code",
      "source": [
        "# optimal objective value - Minimum CVaR\n",
        "oos_model_2020.objVal"
      ],
      "metadata": {
        "colab": {
          "base_uri": "https://localhost:8080/"
        },
        "id": "vjXEBZHdYzc0",
        "outputId": "4f462fff-9e5b-4c40-c14c-711e2fbaca5d"
      },
      "execution_count": 98,
      "outputs": [
        {
          "output_type": "execute_result",
          "data": {
            "text/plain": [
              "0.04656340521770071"
            ]
          },
          "metadata": {},
          "execution_count": 98
        }
      ]
    },
    {
      "cell_type": "code",
      "source": [
        "# Q2a: Calculate daily average CVaR for 2020\n",
        "portfolio_returns_2020 = returns_2020_clean @ x_2019.x\n",
        "losses_2020 = -portfolio_returns_2020\n",
        "VaR_2020 = np.quantile(losses_2020, beta_2019)\n",
        "VaR_2020"
      ],
      "metadata": {
        "colab": {
          "base_uri": "https://localhost:8080/"
        },
        "id": "tNPR96GTYzfa",
        "outputId": "f5deb6bb-c6b2-4c54-c075-90d7a1bfb1bf"
      },
      "execution_count": 99,
      "outputs": [
        {
          "output_type": "execute_result",
          "data": {
            "text/plain": [
              "np.float64(0.02525015930876448)"
            ]
          },
          "metadata": {},
          "execution_count": 99
        }
      ]
    },
    {
      "cell_type": "code",
      "source": [
        "daily_cvar_2020 = losses_2020[losses_2020 >= VaR_2020].mean()\n",
        "daily_cvar_2020"
      ],
      "metadata": {
        "colab": {
          "base_uri": "https://localhost:8080/"
        },
        "id": "QcNF2Q0vg1jV",
        "outputId": "7ec65e46-7e4f-4d4f-dd42-9b94233a4758"
      },
      "execution_count": 100,
      "outputs": [
        {
          "output_type": "execute_result",
          "data": {
            "text/plain": [
              "np.float64(0.045830437919372725)"
            ]
          },
          "metadata": {},
          "execution_count": 100
        }
      ]
    },
    {
      "cell_type": "code",
      "source": [
        "# Isolate the NDX returns and drop any missing values\n",
        "ndx_returns_2019 = stocks_2019_df['NDX'].pct_change().dropna()\n",
        "ndx_returns_2020 = stocks_2020_df['NDX'].pct_change().dropna()\n",
        "\n",
        "# Calculate CVaR for NDX\n",
        "\n",
        "# For the 2019 period\n",
        "# Convert daily returns to daily losses (simply negate the returns)\n",
        "ndx_losses_2019 = -ndx_returns_2019\n",
        "\n",
        "# Calculate Value-at-Risk (VaR) at the 95% confidence level\n",
        "# This is the 95th percentile of the loss distribution\n",
        "VaR_2019 = np.quantile(ndx_losses_2019, beta_2019)\n",
        "\n",
        "# Calculate Conditional Value-at-Risk (CVaR)\n",
        "# This is the average of all losses that are greater than or equal to the VaR\n",
        "CVaR_2019 = ndx_losses_2019[ndx_losses_2019 >= VaR_2019].mean()\n",
        "print(CVaR_2019)\n",
        "\n",
        "# For the 2020 period\n",
        "# Convert daily returns to daily losses\n",
        "ndx_losses_2020 = -ndx_returns_2020\n",
        "\n",
        "# Calculate Value-at-Risk (VaR) at the 95% confidence level\n",
        "VaR_2020 = np.quantile(ndx_losses_2020, beta_2019)\n",
        "\n",
        "# Calculate Conditional Value-at-Risk (CVaR)\n",
        "CVaR_2020 = ndx_losses_2020[ndx_losses_2020 >= VaR_2020].mean()\n",
        "print(CVaR_2020)"
      ],
      "metadata": {
        "colab": {
          "base_uri": "https://localhost:8080/"
        },
        "id": "S1ojUPxgkaXz",
        "outputId": "0b445f54-7378-4c3b-c4e6-ac81488e5636"
      },
      "execution_count": 101,
      "outputs": [
        {
          "output_type": "stream",
          "name": "stdout",
          "text": [
            "0.024414435466659386\n",
            "0.05589237294160232\n"
          ]
        }
      ]
    },
    {
      "cell_type": "markdown",
      "source": [
        "We first constructed an optimal portfolio using 2019 data with a confidence level (β) of 95% and a minimum expected daily return of 0.02%.\n",
        "\n",
        "**In-sample (2019) Daily CVaR:** The CVaR of our optimized portfolio, when measured against the 2019 data it was trained on, was found to be 1.11%. This means that on the worst 5% of trading days in 2019, the average loss was 1.11%.\n",
        "\n",
        "**Out-of-sample (2020) Daily CVaR:** When we took the same portfolio and applied it to the 2020 data, the daily CVaR increased to 4.56%. The higher out-of-sample CVaR suggests that the market conditions in 2020 were significantly different from 2019, likely due to the COVID-19 pandemic. This highlights the risks of using a static portfolio across different market regimes.\n",
        "\n",
        "Is it not a good idea to stick with the same portfolio. The discrepancy between the in-sample and out-of-sample CVaR demonstrates the concept of non-stationarity in financial markets. The statistical properties (like mean and variance) of stock returns change over time. A portfolio optimized for one period may not be optimal for the next."
      ],
      "metadata": {
        "id": "tr71ijS8h-Tx"
      }
    },
    {
      "cell_type": "markdown",
      "source": [
        "## **Part 3: Rerun part 2 with beta=0.9, beta=0.99**"
      ],
      "metadata": {
        "id": "3foqCnzLHDVa"
      }
    },
    {
      "cell_type": "markdown",
      "source": [
        "Rerun your portfolio model using the 2019 data with beta=0.90 and beta=0.99. How do different beta values\n",
        "affect the portfolio allocation?"
      ],
      "metadata": {
        "id": "C3C6V8nxi1Xr"
      }
    },
    {
      "cell_type": "code",
      "source": [
        "# set inputs\n",
        "beta_2019 = 0.90\n",
        "\n",
        "# Create the Gurobi model\n",
        "CVaR_model_2019 = gp.Model(\"CVaR_Optimization_2019\")\n",
        "\n",
        "# Add/Define decision variables\n",
        "x_2019 = CVaR_model_2019.addMVar(num_stocks_2019, lb=0.0, name=\"weights\") # here set non-negative contraint\n",
        "alpha_2019 = CVaR_model_2019.addMVar(1, name=\"VaR\")\n",
        "u_2019 = CVaR_model_2019.addMVar(num_days_2019, lb=0.0, name=\"excess_loss\") # here set non-negative contraint\n",
        "\n",
        "# Set the objective function: Minimize CVaR\n",
        "CVaR_model_2019.setObjective(alpha_2019 + (1 / ((1 - beta_2019) * num_days_2019)) * u_2019.sum(), gp.GRB.MINIMIZE)\n",
        "\n",
        "# Add constraints (@ is for matrix operation)\n",
        "CVaR_model_2019.addConstr(x_2019.sum() == 1, name=\"weights_sum_one_constraint\")\n",
        "CVaR_model_2019.addConstr(returns_2019_clean.mean().values @ x_2019 >= R_2019, name=\"min_return_constraint\")\n",
        "CVaR_model_2019.addConstr(-returns_2019_clean.values @ x_2019 - alpha_2019 <= u_2019, name=\"excess_loss_constraint\")\n",
        "\n",
        "# Solve the model\n",
        "CVaR_model_2019.Params.OutputFlag = 0 # Suppress Gurobi output\n",
        "CVaR_model_2019.optimize()\n",
        "\n",
        "# Alpha\n",
        "print(alpha_2019.x)\n",
        "\n",
        "# optimal objective value - Minimum CVaR\n",
        "print(CVaR_model_2019.objVal)"
      ],
      "metadata": {
        "colab": {
          "base_uri": "https://localhost:8080/"
        },
        "id": "auZ088WjYbSN",
        "outputId": "00d43821-d10c-422c-b082-3a44b046706e"
      },
      "execution_count": 102,
      "outputs": [
        {
          "output_type": "stream",
          "name": "stdout",
          "text": [
            "[0.00487055]\n",
            "0.008900057743571329\n"
          ]
        }
      ]
    },
    {
      "cell_type": "code",
      "source": [
        "# set inputs\n",
        "beta_2019 = 0.99\n",
        "\n",
        "# Create the Gurobi model\n",
        "CVaR_model_2019 = gp.Model(\"CVaR_Optimization_2019\")\n",
        "\n",
        "# Add/Define decision variables\n",
        "x_2019 = CVaR_model_2019.addMVar(num_stocks_2019, lb=0.0, name=\"weights\") # here set non-negative contraint\n",
        "alpha_2019 = CVaR_model_2019.addMVar(1, name=\"VaR\")\n",
        "u_2019 = CVaR_model_2019.addMVar(num_days_2019, lb=0.0, name=\"excess_loss\") # here set non-negative contraint\n",
        "\n",
        "# Set the objective function: Minimize CVaR\n",
        "CVaR_model_2019.setObjective(alpha_2019 + (1 / ((1 - beta_2019) * num_days_2019)) * u_2019.sum(), gp.GRB.MINIMIZE)\n",
        "\n",
        "# Add constraints (@ is for matrix operation)\n",
        "CVaR_model_2019.addConstr(x_2019.sum() == 1, name=\"weights_sum_one_constraint\")\n",
        "CVaR_model_2019.addConstr(returns_2019_clean.mean().values @ x_2019 >= R_2019, name=\"min_return_constraint\")\n",
        "CVaR_model_2019.addConstr(-returns_2019_clean.values @ x_2019 - alpha_2019 <= u_2019, name=\"excess_loss_constraint\")\n",
        "\n",
        "# Solve the model\n",
        "CVaR_model_2019.Params.OutputFlag = 0 # Suppress Gurobi output\n",
        "CVaR_model_2019.optimize()\n",
        "\n",
        "# Alpha\n",
        "print(alpha_2019.x)\n",
        "\n",
        "# optimal objective value - Minimum CVaR\n",
        "print(CVaR_model_2019.objVal)"
      ],
      "metadata": {
        "colab": {
          "base_uri": "https://localhost:8080/"
        },
        "id": "o8bu6abPjK6E",
        "outputId": "d745015e-c5b9-4049-c2f1-2b210e5f02f0"
      },
      "execution_count": 103,
      "outputs": [
        {
          "output_type": "stream",
          "name": "stdout",
          "text": [
            "[0.01245112]\n",
            "0.01245111533074674\n"
          ]
        }
      ]
    },
    {
      "cell_type": "markdown",
      "source": [
        "We re-ran the optimization with different confidence levels to see how it affected the portfolio.\n",
        "\n",
        "β = 0.90: With a lower confidence level, the model is less sensitive to extreme tail risks. This resulted in a portfolio with a CVaR of 0.89%.\n",
        "\n",
        "β = 0.99: A higher confidence level makes the model more focused on extreme tail events. This led to a portfolio with a CVaR of 1.25%.\n",
        "\n",
        "As expected, a higher beta (more conservative) leads to a higher CVaR value, as we are averaging over a more extreme (and smaller) set of worst-case scenarios. The portfolio composition also changes, with higher beta values typically leading to a more diversified and less risky allocation."
      ],
      "metadata": {
        "id": "SpJpL5VijdEU"
      }
    },
    {
      "cell_type": "markdown",
      "source": [
        "## **Part 4: Conservative risk management approach**"
      ],
      "metadata": {
        "id": "Tetu8UNWl40H"
      }
    },
    {
      "cell_type": "markdown",
      "source": [
        "Your team proposes a conservative risk management approach: instead of minimizing the average risk\n",
        "over time, focus on minimizing the maximum monthly β-CVaR across the year. By controlling the single\n",
        "worst month’s tail loss, the portfolio will be better protected against extreme adverse conditions. Run\n",
        "your model again using the 2019 data with this objective. Compare with Part 2."
      ],
      "metadata": {
        "id": "n_GBS04_lmvQ"
      }
    },
    {
      "cell_type": "code",
      "source": [
        "beta_2019 = 0.95\n",
        "monthly_returns_2019 = returns_2019_clean.resample('ME').apply(lambda x: (x + 1).prod() - 1)\n",
        "monthly_returns_2019"
      ],
      "metadata": {
        "colab": {
          "base_uri": "https://localhost:8080/",
          "height": 714
        },
        "id": "cpxK9iyNJ7Fv",
        "outputId": "8b8ee936-cfe7-4c48-d9e6-d1d9888d4a51"
      },
      "execution_count": 106,
      "outputs": [
        {
          "output_type": "execute_result",
          "data": {
            "text/plain": [
              "                ATVI      ADBE       AMD      ALXN      ALGN     GOOGL  \\\n",
              "Date                                                                     \n",
              "2019-01-31  0.004465  0.103531  0.296336  0.254054  0.231694  0.067518   \n",
              "2019-02-28 -0.107959  0.059237 -0.036051  0.100602  0.040249  0.000586   \n",
              "2019-03-31  0.089125  0.015200  0.084573 -0.001108  0.097926  0.044685   \n",
              "2019-04-30  0.058862  0.085407  0.082680  0.007028  0.141913  0.018753   \n",
              "2019-05-31 -0.100394 -0.063440 -0.007962 -0.164916 -0.124215 -0.077117   \n",
              "2019-06-30  0.088310  0.087671  0.107990  0.152182 -0.037454 -0.021419   \n",
              "2019-07-31  0.032627  0.014288  0.002634 -0.135059 -0.236098  0.125046   \n",
              "2019-08-31  0.038162 -0.048016  0.032841 -0.110601 -0.124211 -0.022714   \n",
              "2019-09-30  0.045850 -0.029032 -0.078219 -0.027987 -0.011960  0.025711   \n",
              "2019-10-31  0.058768  0.006081  0.170404  0.076169  0.394484  0.030840   \n",
              "2019-11-30 -0.021417  0.113698  0.153846  0.081025  0.099291  0.035979   \n",
              "2019-12-31  0.073865  0.060770  0.162707 -0.057925 -0.006166  0.027314   \n",
              "\n",
              "                GOOG      AMZN      AMGN       ADI  ...      TCOM      ULTA  \\\n",
              "Date                                                ...                       \n",
              "2019-01-31  0.067428  0.116689 -0.024961  0.150605  ...  0.206959  0.177239   \n",
              "2019-02-28  0.003180 -0.045906  0.023728  0.087478  ...  0.024925  0.070464   \n",
              "2019-03-31  0.047673  0.085936 -0.000526 -0.015800  ...  0.280105  0.115972   \n",
              "2019-04-30  0.012929  0.081859 -0.056111  0.104208  ...  0.008240  0.000717   \n",
              "2019-05-31 -0.071394 -0.078613 -0.062374 -0.164188  ... -0.215437 -0.044702   \n",
              "2019-06-30 -0.020587  0.066792  0.105459  0.168185  ...  0.067998  0.040524   \n",
              "2019-07-31  0.125607 -0.014179  0.012481  0.040666  ...  0.056082  0.006803   \n",
              "2019-08-31 -0.023490 -0.048474  0.126048 -0.060261  ... -0.169318 -0.319313   \n",
              "2019-09-30  0.026008 -0.022733 -0.072428  0.017299  ... -0.095429  0.054347   \n",
              "2019-10-31  0.033724  0.023475  0.102010 -0.045646  ...  0.126323 -0.069818   \n",
              "2019-11-30  0.035592  0.013587  0.107994  0.059270  ...  0.007578  0.003045   \n",
              "2019-12-31  0.023893  0.025594  0.023645  0.057315  ...  0.028881  0.074788   \n",
              "\n",
              "                VRSN      VRSK      VRTX       WBA      WDAY       WDC  \\\n",
              "Date                                                                     \n",
              "2019-01-31  0.145574  0.080626  0.163518  0.062022  0.136409  0.175902   \n",
              "2019-02-28  0.051811  0.076825 -0.011314 -0.008786  0.090343  0.118026   \n",
              "2019-03-31  0.019771  0.054012 -0.025430 -0.111251 -0.025666 -0.033888   \n",
              "2019-04-30  0.087519  0.061203 -0.081381 -0.153311  0.066269  0.063670   \n",
              "2019-05-31 -0.012510 -0.008077 -0.016570 -0.071178 -0.007343 -0.271909   \n",
              "2019-06-30  0.072725  0.047938  0.103502  0.108026  0.007153  0.292190   \n",
              "2019-07-31  0.009227  0.035914 -0.091395 -0.003292 -0.027240  0.133333   \n",
              "2019-08-31 -0.034298  0.064724  0.080423 -0.051960 -0.113511  0.062720   \n",
              "2019-09-30 -0.074663 -0.019467 -0.058882  0.080484 -0.041291  0.041383   \n",
              "2019-10-31  0.007369 -0.084988  0.153819 -0.009582 -0.045893 -0.126282   \n",
              "2019-11-30  0.003789  0.019212  0.134387  0.096093  0.104588 -0.025557   \n",
              "2019-12-31  0.008336  0.002181 -0.012537 -0.011577 -0.085306  0.239420   \n",
              "\n",
              "                 XEL      XLNX  \n",
              "Date                            \n",
              "2019-01-31  0.085857  0.288889  \n",
              "2019-02-28  0.047746  0.123018  \n",
              "2019-03-31  0.031986  0.011891  \n",
              "2019-04-30  0.005159 -0.052449  \n",
              "2019-05-31  0.014867 -0.145617  \n",
              "2019-06-30  0.044604  0.152575  \n",
              "2019-07-31  0.002017 -0.031462  \n",
              "2019-08-31  0.077336 -0.085710  \n",
              "2019-09-30  0.016945 -0.078416  \n",
              "2019-10-31 -0.021267 -0.053806  \n",
              "2019-11-30 -0.031806  0.026436  \n",
              "2019-12-31  0.035930  0.052813  \n",
              "\n",
              "[12 rows x 100 columns]"
            ],
            "text/html": [
              "\n",
              "  <div id=\"df-518c0e64-b1fd-4469-83c3-38d7e44c4ac7\" class=\"colab-df-container\">\n",
              "    <div>\n",
              "<style scoped>\n",
              "    .dataframe tbody tr th:only-of-type {\n",
              "        vertical-align: middle;\n",
              "    }\n",
              "\n",
              "    .dataframe tbody tr th {\n",
              "        vertical-align: top;\n",
              "    }\n",
              "\n",
              "    .dataframe thead th {\n",
              "        text-align: right;\n",
              "    }\n",
              "</style>\n",
              "<table border=\"1\" class=\"dataframe\">\n",
              "  <thead>\n",
              "    <tr style=\"text-align: right;\">\n",
              "      <th></th>\n",
              "      <th>ATVI</th>\n",
              "      <th>ADBE</th>\n",
              "      <th>AMD</th>\n",
              "      <th>ALXN</th>\n",
              "      <th>ALGN</th>\n",
              "      <th>GOOGL</th>\n",
              "      <th>GOOG</th>\n",
              "      <th>AMZN</th>\n",
              "      <th>AMGN</th>\n",
              "      <th>ADI</th>\n",
              "      <th>...</th>\n",
              "      <th>TCOM</th>\n",
              "      <th>ULTA</th>\n",
              "      <th>VRSN</th>\n",
              "      <th>VRSK</th>\n",
              "      <th>VRTX</th>\n",
              "      <th>WBA</th>\n",
              "      <th>WDAY</th>\n",
              "      <th>WDC</th>\n",
              "      <th>XEL</th>\n",
              "      <th>XLNX</th>\n",
              "    </tr>\n",
              "    <tr>\n",
              "      <th>Date</th>\n",
              "      <th></th>\n",
              "      <th></th>\n",
              "      <th></th>\n",
              "      <th></th>\n",
              "      <th></th>\n",
              "      <th></th>\n",
              "      <th></th>\n",
              "      <th></th>\n",
              "      <th></th>\n",
              "      <th></th>\n",
              "      <th></th>\n",
              "      <th></th>\n",
              "      <th></th>\n",
              "      <th></th>\n",
              "      <th></th>\n",
              "      <th></th>\n",
              "      <th></th>\n",
              "      <th></th>\n",
              "      <th></th>\n",
              "      <th></th>\n",
              "      <th></th>\n",
              "    </tr>\n",
              "  </thead>\n",
              "  <tbody>\n",
              "    <tr>\n",
              "      <th>2019-01-31</th>\n",
              "      <td>0.004465</td>\n",
              "      <td>0.103531</td>\n",
              "      <td>0.296336</td>\n",
              "      <td>0.254054</td>\n",
              "      <td>0.231694</td>\n",
              "      <td>0.067518</td>\n",
              "      <td>0.067428</td>\n",
              "      <td>0.116689</td>\n",
              "      <td>-0.024961</td>\n",
              "      <td>0.150605</td>\n",
              "      <td>...</td>\n",
              "      <td>0.206959</td>\n",
              "      <td>0.177239</td>\n",
              "      <td>0.145574</td>\n",
              "      <td>0.080626</td>\n",
              "      <td>0.163518</td>\n",
              "      <td>0.062022</td>\n",
              "      <td>0.136409</td>\n",
              "      <td>0.175902</td>\n",
              "      <td>0.085857</td>\n",
              "      <td>0.288889</td>\n",
              "    </tr>\n",
              "    <tr>\n",
              "      <th>2019-02-28</th>\n",
              "      <td>-0.107959</td>\n",
              "      <td>0.059237</td>\n",
              "      <td>-0.036051</td>\n",
              "      <td>0.100602</td>\n",
              "      <td>0.040249</td>\n",
              "      <td>0.000586</td>\n",
              "      <td>0.003180</td>\n",
              "      <td>-0.045906</td>\n",
              "      <td>0.023728</td>\n",
              "      <td>0.087478</td>\n",
              "      <td>...</td>\n",
              "      <td>0.024925</td>\n",
              "      <td>0.070464</td>\n",
              "      <td>0.051811</td>\n",
              "      <td>0.076825</td>\n",
              "      <td>-0.011314</td>\n",
              "      <td>-0.008786</td>\n",
              "      <td>0.090343</td>\n",
              "      <td>0.118026</td>\n",
              "      <td>0.047746</td>\n",
              "      <td>0.123018</td>\n",
              "    </tr>\n",
              "    <tr>\n",
              "      <th>2019-03-31</th>\n",
              "      <td>0.089125</td>\n",
              "      <td>0.015200</td>\n",
              "      <td>0.084573</td>\n",
              "      <td>-0.001108</td>\n",
              "      <td>0.097926</td>\n",
              "      <td>0.044685</td>\n",
              "      <td>0.047673</td>\n",
              "      <td>0.085936</td>\n",
              "      <td>-0.000526</td>\n",
              "      <td>-0.015800</td>\n",
              "      <td>...</td>\n",
              "      <td>0.280105</td>\n",
              "      <td>0.115972</td>\n",
              "      <td>0.019771</td>\n",
              "      <td>0.054012</td>\n",
              "      <td>-0.025430</td>\n",
              "      <td>-0.111251</td>\n",
              "      <td>-0.025666</td>\n",
              "      <td>-0.033888</td>\n",
              "      <td>0.031986</td>\n",
              "      <td>0.011891</td>\n",
              "    </tr>\n",
              "    <tr>\n",
              "      <th>2019-04-30</th>\n",
              "      <td>0.058862</td>\n",
              "      <td>0.085407</td>\n",
              "      <td>0.082680</td>\n",
              "      <td>0.007028</td>\n",
              "      <td>0.141913</td>\n",
              "      <td>0.018753</td>\n",
              "      <td>0.012929</td>\n",
              "      <td>0.081859</td>\n",
              "      <td>-0.056111</td>\n",
              "      <td>0.104208</td>\n",
              "      <td>...</td>\n",
              "      <td>0.008240</td>\n",
              "      <td>0.000717</td>\n",
              "      <td>0.087519</td>\n",
              "      <td>0.061203</td>\n",
              "      <td>-0.081381</td>\n",
              "      <td>-0.153311</td>\n",
              "      <td>0.066269</td>\n",
              "      <td>0.063670</td>\n",
              "      <td>0.005159</td>\n",
              "      <td>-0.052449</td>\n",
              "    </tr>\n",
              "    <tr>\n",
              "      <th>2019-05-31</th>\n",
              "      <td>-0.100394</td>\n",
              "      <td>-0.063440</td>\n",
              "      <td>-0.007962</td>\n",
              "      <td>-0.164916</td>\n",
              "      <td>-0.124215</td>\n",
              "      <td>-0.077117</td>\n",
              "      <td>-0.071394</td>\n",
              "      <td>-0.078613</td>\n",
              "      <td>-0.062374</td>\n",
              "      <td>-0.164188</td>\n",
              "      <td>...</td>\n",
              "      <td>-0.215437</td>\n",
              "      <td>-0.044702</td>\n",
              "      <td>-0.012510</td>\n",
              "      <td>-0.008077</td>\n",
              "      <td>-0.016570</td>\n",
              "      <td>-0.071178</td>\n",
              "      <td>-0.007343</td>\n",
              "      <td>-0.271909</td>\n",
              "      <td>0.014867</td>\n",
              "      <td>-0.145617</td>\n",
              "    </tr>\n",
              "    <tr>\n",
              "      <th>2019-06-30</th>\n",
              "      <td>0.088310</td>\n",
              "      <td>0.087671</td>\n",
              "      <td>0.107990</td>\n",
              "      <td>0.152182</td>\n",
              "      <td>-0.037454</td>\n",
              "      <td>-0.021419</td>\n",
              "      <td>-0.020587</td>\n",
              "      <td>0.066792</td>\n",
              "      <td>0.105459</td>\n",
              "      <td>0.168185</td>\n",
              "      <td>...</td>\n",
              "      <td>0.067998</td>\n",
              "      <td>0.040524</td>\n",
              "      <td>0.072725</td>\n",
              "      <td>0.047938</td>\n",
              "      <td>0.103502</td>\n",
              "      <td>0.108026</td>\n",
              "      <td>0.007153</td>\n",
              "      <td>0.292190</td>\n",
              "      <td>0.044604</td>\n",
              "      <td>0.152575</td>\n",
              "    </tr>\n",
              "    <tr>\n",
              "      <th>2019-07-31</th>\n",
              "      <td>0.032627</td>\n",
              "      <td>0.014288</td>\n",
              "      <td>0.002634</td>\n",
              "      <td>-0.135059</td>\n",
              "      <td>-0.236098</td>\n",
              "      <td>0.125046</td>\n",
              "      <td>0.125607</td>\n",
              "      <td>-0.014179</td>\n",
              "      <td>0.012481</td>\n",
              "      <td>0.040666</td>\n",
              "      <td>...</td>\n",
              "      <td>0.056082</td>\n",
              "      <td>0.006803</td>\n",
              "      <td>0.009227</td>\n",
              "      <td>0.035914</td>\n",
              "      <td>-0.091395</td>\n",
              "      <td>-0.003292</td>\n",
              "      <td>-0.027240</td>\n",
              "      <td>0.133333</td>\n",
              "      <td>0.002017</td>\n",
              "      <td>-0.031462</td>\n",
              "    </tr>\n",
              "    <tr>\n",
              "      <th>2019-08-31</th>\n",
              "      <td>0.038162</td>\n",
              "      <td>-0.048016</td>\n",
              "      <td>0.032841</td>\n",
              "      <td>-0.110601</td>\n",
              "      <td>-0.124211</td>\n",
              "      <td>-0.022714</td>\n",
              "      <td>-0.023490</td>\n",
              "      <td>-0.048474</td>\n",
              "      <td>0.126048</td>\n",
              "      <td>-0.060261</td>\n",
              "      <td>...</td>\n",
              "      <td>-0.169318</td>\n",
              "      <td>-0.319313</td>\n",
              "      <td>-0.034298</td>\n",
              "      <td>0.064724</td>\n",
              "      <td>0.080423</td>\n",
              "      <td>-0.051960</td>\n",
              "      <td>-0.113511</td>\n",
              "      <td>0.062720</td>\n",
              "      <td>0.077336</td>\n",
              "      <td>-0.085710</td>\n",
              "    </tr>\n",
              "    <tr>\n",
              "      <th>2019-09-30</th>\n",
              "      <td>0.045850</td>\n",
              "      <td>-0.029032</td>\n",
              "      <td>-0.078219</td>\n",
              "      <td>-0.027987</td>\n",
              "      <td>-0.011960</td>\n",
              "      <td>0.025711</td>\n",
              "      <td>0.026008</td>\n",
              "      <td>-0.022733</td>\n",
              "      <td>-0.072428</td>\n",
              "      <td>0.017299</td>\n",
              "      <td>...</td>\n",
              "      <td>-0.095429</td>\n",
              "      <td>0.054347</td>\n",
              "      <td>-0.074663</td>\n",
              "      <td>-0.019467</td>\n",
              "      <td>-0.058882</td>\n",
              "      <td>0.080484</td>\n",
              "      <td>-0.041291</td>\n",
              "      <td>0.041383</td>\n",
              "      <td>0.016945</td>\n",
              "      <td>-0.078416</td>\n",
              "    </tr>\n",
              "    <tr>\n",
              "      <th>2019-10-31</th>\n",
              "      <td>0.058768</td>\n",
              "      <td>0.006081</td>\n",
              "      <td>0.170404</td>\n",
              "      <td>0.076169</td>\n",
              "      <td>0.394484</td>\n",
              "      <td>0.030840</td>\n",
              "      <td>0.033724</td>\n",
              "      <td>0.023475</td>\n",
              "      <td>0.102010</td>\n",
              "      <td>-0.045646</td>\n",
              "      <td>...</td>\n",
              "      <td>0.126323</td>\n",
              "      <td>-0.069818</td>\n",
              "      <td>0.007369</td>\n",
              "      <td>-0.084988</td>\n",
              "      <td>0.153819</td>\n",
              "      <td>-0.009582</td>\n",
              "      <td>-0.045893</td>\n",
              "      <td>-0.126282</td>\n",
              "      <td>-0.021267</td>\n",
              "      <td>-0.053806</td>\n",
              "    </tr>\n",
              "    <tr>\n",
              "      <th>2019-11-30</th>\n",
              "      <td>-0.021417</td>\n",
              "      <td>0.113698</td>\n",
              "      <td>0.153846</td>\n",
              "      <td>0.081025</td>\n",
              "      <td>0.099291</td>\n",
              "      <td>0.035979</td>\n",
              "      <td>0.035592</td>\n",
              "      <td>0.013587</td>\n",
              "      <td>0.107994</td>\n",
              "      <td>0.059270</td>\n",
              "      <td>...</td>\n",
              "      <td>0.007578</td>\n",
              "      <td>0.003045</td>\n",
              "      <td>0.003789</td>\n",
              "      <td>0.019212</td>\n",
              "      <td>0.134387</td>\n",
              "      <td>0.096093</td>\n",
              "      <td>0.104588</td>\n",
              "      <td>-0.025557</td>\n",
              "      <td>-0.031806</td>\n",
              "      <td>0.026436</td>\n",
              "    </tr>\n",
              "    <tr>\n",
              "      <th>2019-12-31</th>\n",
              "      <td>0.073865</td>\n",
              "      <td>0.060770</td>\n",
              "      <td>0.162707</td>\n",
              "      <td>-0.057925</td>\n",
              "      <td>-0.006166</td>\n",
              "      <td>0.027314</td>\n",
              "      <td>0.023893</td>\n",
              "      <td>0.025594</td>\n",
              "      <td>0.023645</td>\n",
              "      <td>0.057315</td>\n",
              "      <td>...</td>\n",
              "      <td>0.028881</td>\n",
              "      <td>0.074788</td>\n",
              "      <td>0.008336</td>\n",
              "      <td>0.002181</td>\n",
              "      <td>-0.012537</td>\n",
              "      <td>-0.011577</td>\n",
              "      <td>-0.085306</td>\n",
              "      <td>0.239420</td>\n",
              "      <td>0.035930</td>\n",
              "      <td>0.052813</td>\n",
              "    </tr>\n",
              "  </tbody>\n",
              "</table>\n",
              "<p>12 rows × 100 columns</p>\n",
              "</div>\n",
              "    <div class=\"colab-df-buttons\">\n",
              "\n",
              "  <div class=\"colab-df-container\">\n",
              "    <button class=\"colab-df-convert\" onclick=\"convertToInteractive('df-518c0e64-b1fd-4469-83c3-38d7e44c4ac7')\"\n",
              "            title=\"Convert this dataframe to an interactive table.\"\n",
              "            style=\"display:none;\">\n",
              "\n",
              "  <svg xmlns=\"http://www.w3.org/2000/svg\" height=\"24px\" viewBox=\"0 -960 960 960\">\n",
              "    <path d=\"M120-120v-720h720v720H120Zm60-500h600v-160H180v160Zm220 220h160v-160H400v160Zm0 220h160v-160H400v160ZM180-400h160v-160H180v160Zm440 0h160v-160H620v160ZM180-180h160v-160H180v160Zm440 0h160v-160H620v160Z\"/>\n",
              "  </svg>\n",
              "    </button>\n",
              "\n",
              "  <style>\n",
              "    .colab-df-container {\n",
              "      display:flex;\n",
              "      gap: 12px;\n",
              "    }\n",
              "\n",
              "    .colab-df-convert {\n",
              "      background-color: #E8F0FE;\n",
              "      border: none;\n",
              "      border-radius: 50%;\n",
              "      cursor: pointer;\n",
              "      display: none;\n",
              "      fill: #1967D2;\n",
              "      height: 32px;\n",
              "      padding: 0 0 0 0;\n",
              "      width: 32px;\n",
              "    }\n",
              "\n",
              "    .colab-df-convert:hover {\n",
              "      background-color: #E2EBFA;\n",
              "      box-shadow: 0px 1px 2px rgba(60, 64, 67, 0.3), 0px 1px 3px 1px rgba(60, 64, 67, 0.15);\n",
              "      fill: #174EA6;\n",
              "    }\n",
              "\n",
              "    .colab-df-buttons div {\n",
              "      margin-bottom: 4px;\n",
              "    }\n",
              "\n",
              "    [theme=dark] .colab-df-convert {\n",
              "      background-color: #3B4455;\n",
              "      fill: #D2E3FC;\n",
              "    }\n",
              "\n",
              "    [theme=dark] .colab-df-convert:hover {\n",
              "      background-color: #434B5C;\n",
              "      box-shadow: 0px 1px 3px 1px rgba(0, 0, 0, 0.15);\n",
              "      filter: drop-shadow(0px 1px 2px rgba(0, 0, 0, 0.3));\n",
              "      fill: #FFFFFF;\n",
              "    }\n",
              "  </style>\n",
              "\n",
              "    <script>\n",
              "      const buttonEl =\n",
              "        document.querySelector('#df-518c0e64-b1fd-4469-83c3-38d7e44c4ac7 button.colab-df-convert');\n",
              "      buttonEl.style.display =\n",
              "        google.colab.kernel.accessAllowed ? 'block' : 'none';\n",
              "\n",
              "      async function convertToInteractive(key) {\n",
              "        const element = document.querySelector('#df-518c0e64-b1fd-4469-83c3-38d7e44c4ac7');\n",
              "        const dataTable =\n",
              "          await google.colab.kernel.invokeFunction('convertToInteractive',\n",
              "                                                    [key], {});\n",
              "        if (!dataTable) return;\n",
              "\n",
              "        const docLinkHtml = 'Like what you see? Visit the ' +\n",
              "          '<a target=\"_blank\" href=https://colab.research.google.com/notebooks/data_table.ipynb>data table notebook</a>'\n",
              "          + ' to learn more about interactive tables.';\n",
              "        element.innerHTML = '';\n",
              "        dataTable['output_type'] = 'display_data';\n",
              "        await google.colab.output.renderOutput(dataTable, element);\n",
              "        const docLink = document.createElement('div');\n",
              "        docLink.innerHTML = docLinkHtml;\n",
              "        element.appendChild(docLink);\n",
              "      }\n",
              "    </script>\n",
              "  </div>\n",
              "\n",
              "\n",
              "    <div id=\"df-cd874319-22ab-4c85-9f38-9f86ad26eea5\">\n",
              "      <button class=\"colab-df-quickchart\" onclick=\"quickchart('df-cd874319-22ab-4c85-9f38-9f86ad26eea5')\"\n",
              "                title=\"Suggest charts\"\n",
              "                style=\"display:none;\">\n",
              "\n",
              "<svg xmlns=\"http://www.w3.org/2000/svg\" height=\"24px\"viewBox=\"0 0 24 24\"\n",
              "     width=\"24px\">\n",
              "    <g>\n",
              "        <path d=\"M19 3H5c-1.1 0-2 .9-2 2v14c0 1.1.9 2 2 2h14c1.1 0 2-.9 2-2V5c0-1.1-.9-2-2-2zM9 17H7v-7h2v7zm4 0h-2V7h2v10zm4 0h-2v-4h2v4z\"/>\n",
              "    </g>\n",
              "</svg>\n",
              "      </button>\n",
              "\n",
              "<style>\n",
              "  .colab-df-quickchart {\n",
              "      --bg-color: #E8F0FE;\n",
              "      --fill-color: #1967D2;\n",
              "      --hover-bg-color: #E2EBFA;\n",
              "      --hover-fill-color: #174EA6;\n",
              "      --disabled-fill-color: #AAA;\n",
              "      --disabled-bg-color: #DDD;\n",
              "  }\n",
              "\n",
              "  [theme=dark] .colab-df-quickchart {\n",
              "      --bg-color: #3B4455;\n",
              "      --fill-color: #D2E3FC;\n",
              "      --hover-bg-color: #434B5C;\n",
              "      --hover-fill-color: #FFFFFF;\n",
              "      --disabled-bg-color: #3B4455;\n",
              "      --disabled-fill-color: #666;\n",
              "  }\n",
              "\n",
              "  .colab-df-quickchart {\n",
              "    background-color: var(--bg-color);\n",
              "    border: none;\n",
              "    border-radius: 50%;\n",
              "    cursor: pointer;\n",
              "    display: none;\n",
              "    fill: var(--fill-color);\n",
              "    height: 32px;\n",
              "    padding: 0;\n",
              "    width: 32px;\n",
              "  }\n",
              "\n",
              "  .colab-df-quickchart:hover {\n",
              "    background-color: var(--hover-bg-color);\n",
              "    box-shadow: 0 1px 2px rgba(60, 64, 67, 0.3), 0 1px 3px 1px rgba(60, 64, 67, 0.15);\n",
              "    fill: var(--button-hover-fill-color);\n",
              "  }\n",
              "\n",
              "  .colab-df-quickchart-complete:disabled,\n",
              "  .colab-df-quickchart-complete:disabled:hover {\n",
              "    background-color: var(--disabled-bg-color);\n",
              "    fill: var(--disabled-fill-color);\n",
              "    box-shadow: none;\n",
              "  }\n",
              "\n",
              "  .colab-df-spinner {\n",
              "    border: 2px solid var(--fill-color);\n",
              "    border-color: transparent;\n",
              "    border-bottom-color: var(--fill-color);\n",
              "    animation:\n",
              "      spin 1s steps(1) infinite;\n",
              "  }\n",
              "\n",
              "  @keyframes spin {\n",
              "    0% {\n",
              "      border-color: transparent;\n",
              "      border-bottom-color: var(--fill-color);\n",
              "      border-left-color: var(--fill-color);\n",
              "    }\n",
              "    20% {\n",
              "      border-color: transparent;\n",
              "      border-left-color: var(--fill-color);\n",
              "      border-top-color: var(--fill-color);\n",
              "    }\n",
              "    30% {\n",
              "      border-color: transparent;\n",
              "      border-left-color: var(--fill-color);\n",
              "      border-top-color: var(--fill-color);\n",
              "      border-right-color: var(--fill-color);\n",
              "    }\n",
              "    40% {\n",
              "      border-color: transparent;\n",
              "      border-right-color: var(--fill-color);\n",
              "      border-top-color: var(--fill-color);\n",
              "    }\n",
              "    60% {\n",
              "      border-color: transparent;\n",
              "      border-right-color: var(--fill-color);\n",
              "    }\n",
              "    80% {\n",
              "      border-color: transparent;\n",
              "      border-right-color: var(--fill-color);\n",
              "      border-bottom-color: var(--fill-color);\n",
              "    }\n",
              "    90% {\n",
              "      border-color: transparent;\n",
              "      border-bottom-color: var(--fill-color);\n",
              "    }\n",
              "  }\n",
              "</style>\n",
              "\n",
              "      <script>\n",
              "        async function quickchart(key) {\n",
              "          const quickchartButtonEl =\n",
              "            document.querySelector('#' + key + ' button');\n",
              "          quickchartButtonEl.disabled = true;  // To prevent multiple clicks.\n",
              "          quickchartButtonEl.classList.add('colab-df-spinner');\n",
              "          try {\n",
              "            const charts = await google.colab.kernel.invokeFunction(\n",
              "                'suggestCharts', [key], {});\n",
              "          } catch (error) {\n",
              "            console.error('Error during call to suggestCharts:', error);\n",
              "          }\n",
              "          quickchartButtonEl.classList.remove('colab-df-spinner');\n",
              "          quickchartButtonEl.classList.add('colab-df-quickchart-complete');\n",
              "        }\n",
              "        (() => {\n",
              "          let quickchartButtonEl =\n",
              "            document.querySelector('#df-cd874319-22ab-4c85-9f38-9f86ad26eea5 button');\n",
              "          quickchartButtonEl.style.display =\n",
              "            google.colab.kernel.accessAllowed ? 'block' : 'none';\n",
              "        })();\n",
              "      </script>\n",
              "    </div>\n",
              "\n",
              "  <div id=\"id_5502fea3-04ae-4c08-a355-909c264eb8c8\">\n",
              "    <style>\n",
              "      .colab-df-generate {\n",
              "        background-color: #E8F0FE;\n",
              "        border: none;\n",
              "        border-radius: 50%;\n",
              "        cursor: pointer;\n",
              "        display: none;\n",
              "        fill: #1967D2;\n",
              "        height: 32px;\n",
              "        padding: 0 0 0 0;\n",
              "        width: 32px;\n",
              "      }\n",
              "\n",
              "      .colab-df-generate:hover {\n",
              "        background-color: #E2EBFA;\n",
              "        box-shadow: 0px 1px 2px rgba(60, 64, 67, 0.3), 0px 1px 3px 1px rgba(60, 64, 67, 0.15);\n",
              "        fill: #174EA6;\n",
              "      }\n",
              "\n",
              "      [theme=dark] .colab-df-generate {\n",
              "        background-color: #3B4455;\n",
              "        fill: #D2E3FC;\n",
              "      }\n",
              "\n",
              "      [theme=dark] .colab-df-generate:hover {\n",
              "        background-color: #434B5C;\n",
              "        box-shadow: 0px 1px 3px 1px rgba(0, 0, 0, 0.15);\n",
              "        filter: drop-shadow(0px 1px 2px rgba(0, 0, 0, 0.3));\n",
              "        fill: #FFFFFF;\n",
              "      }\n",
              "    </style>\n",
              "    <button class=\"colab-df-generate\" onclick=\"generateWithVariable('monthly_returns_2019')\"\n",
              "            title=\"Generate code using this dataframe.\"\n",
              "            style=\"display:none;\">\n",
              "\n",
              "  <svg xmlns=\"http://www.w3.org/2000/svg\" height=\"24px\"viewBox=\"0 0 24 24\"\n",
              "       width=\"24px\">\n",
              "    <path d=\"M7,19H8.4L18.45,9,17,7.55,7,17.6ZM5,21V16.75L18.45,3.32a2,2,0,0,1,2.83,0l1.4,1.43a1.91,1.91,0,0,1,.58,1.4,1.91,1.91,0,0,1-.58,1.4L9.25,21ZM18.45,9,17,7.55Zm-12,3A5.31,5.31,0,0,0,4.9,8.1,5.31,5.31,0,0,0,1,6.5,5.31,5.31,0,0,0,4.9,4.9,5.31,5.31,0,0,0,6.5,1,5.31,5.31,0,0,0,8.1,4.9,5.31,5.31,0,0,0,12,6.5,5.46,5.46,0,0,0,6.5,12Z\"/>\n",
              "  </svg>\n",
              "    </button>\n",
              "    <script>\n",
              "      (() => {\n",
              "      const buttonEl =\n",
              "        document.querySelector('#id_5502fea3-04ae-4c08-a355-909c264eb8c8 button.colab-df-generate');\n",
              "      buttonEl.style.display =\n",
              "        google.colab.kernel.accessAllowed ? 'block' : 'none';\n",
              "\n",
              "      buttonEl.onclick = () => {\n",
              "        google.colab.notebook.generateWithVariable('monthly_returns_2019');\n",
              "      }\n",
              "      })();\n",
              "    </script>\n",
              "  </div>\n",
              "\n",
              "    </div>\n",
              "  </div>\n"
            ],
            "application/vnd.google.colaboratory.intrinsic+json": {
              "type": "dataframe",
              "variable_name": "monthly_returns_2019"
            }
          },
          "metadata": {},
          "execution_count": 106
        }
      ]
    },
    {
      "cell_type": "code",
      "source": [
        "num_months = len(monthly_returns_2019)\n",
        "num_months"
      ],
      "metadata": {
        "colab": {
          "base_uri": "https://localhost:8080/"
        },
        "id": "fo3m54n9KE42",
        "outputId": "45c2f01a-843f-42d5-9230-ce9832bdfeef"
      },
      "execution_count": 107,
      "outputs": [
        {
          "output_type": "execute_result",
          "data": {
            "text/plain": [
              "12"
            ]
          },
          "metadata": {},
          "execution_count": 107
        }
      ]
    },
    {
      "cell_type": "code",
      "source": [
        "# Create the Gurobi model\n",
        "CVaR_model_2019_monthly = gp.Model(\"Max_Monthly_CVaR\")\n",
        "\n",
        "# Add/Define decision variables\n",
        "x_4 = CVaR_model_2019_monthly.addMVar(num_stocks_2019, lb=0.0, name=\"weights\")\n",
        "monthly_cvar = CVaR_model_2019_monthly.addMVar(num_months, lb=0.0, name=\"monthly_cvar\")\n",
        "max_cvar = CVaR_model_2019_monthly.addMVar(1, name=\"max_cvar\") # This will be our objective\n",
        "\n",
        "# Simplified objective: minimize the maximum loss of any single month\n",
        "# A full CVaR objective here would require another layer of variables\n",
        "portfolio_monthly_losses = -monthly_returns_2019.to_numpy() @ x_4\n",
        "\n",
        "# Set the objective function:\n",
        "CVaR_model_2019_monthly.setObjective(max_cvar, gp.GRB.MINIMIZE)\n",
        "\n",
        "# Add constraints (@ is for matrix operation)\n",
        "CVaR_model_2019_monthly.addConstr(x_4.sum() == 1, \"budget\")\n",
        "CVaR_model_2019_monthly.addConstr(returns_2019_clean.mean().values @ x_4 >= R_2019, \"min_return\")\n",
        "CVaR_model_2019_monthly.addConstr(portfolio_monthly_losses <= max_cvar, \"max_loss_capture\") # Minimize the worst month's loss\n",
        "\n",
        "# Optimize\n",
        "CVaR_model_2019_monthly.Params.OutputFlag = 0\n",
        "CVaR_model_2019_monthly.optimize()\n",
        "\n",
        "optimal_weights_4 = x_4.X\n",
        "portfolio_returns_2020_p4 = returns_2020_clean @ optimal_weights_4\n",
        "losses_2020_p4 = -portfolio_returns_2020_p4\n",
        "VaR_2020_p4 = np.quantile(losses_2020_p4, beta_2019)\n",
        "cvar_2020_p4 = losses_2020_p4[losses_2020_p4 >= VaR_2020_p4].mean()\n",
        "\n",
        "print(f\"Daily CVaR in 2020 from Part 2 (averaging risk): {daily_cvar_2020:.4f}\")\n",
        "print(f\"Daily CVaR in 2020 from Part 4 (worst-month): {cvar_2020_p4:.4f}\")\n",
        "print(\"Discussion: Minimizing the single worst month's loss is a very concentrated risk approach. While it protects against a single catastrophic event, it may lead to a higher average daily risk (CVaR) because it ignores the overall distribution of losses.\")\n"
      ],
      "metadata": {
        "colab": {
          "base_uri": "https://localhost:8080/"
        },
        "id": "BuKCijOKlmUP",
        "outputId": "c40ceca9-1f1d-4bad-d6d1-1fc4dbc950ce"
      },
      "execution_count": 104,
      "outputs": [
        {
          "output_type": "stream",
          "name": "stdout",
          "text": [
            "Warning for adding constraints: zero or small (< 1e-13) coefficients, ignored\n",
            "Daily CVaR in 2020 from Part 2 (averaging risk): 0.0458\n",
            "Daily CVaR in 2020 from Part 4 (worst-month): 0.0583\n",
            "Discussion: Minimizing the single worst month's loss is a very concentrated risk approach. While it protects against a single catastrophic event, it may lead to a higher average daily risk (CVaR) because it ignores the overall distribution of losses.\n"
          ]
        }
      ]
    },
    {
      "cell_type": "markdown",
      "source": [
        "Instead of optimizing for the average risk over the whole year, you want to find a single portfolio,\n",
        "\n",
        "x, that minimizes the CVaR of the single worst month. You calculate the CVaR for each of the 12 months in 2019 separately, and then find the portfolio allocation that makes the highest of these 12 CVaR values as low as possible"
      ],
      "metadata": {
        "id": "7gdBvquPLfTD"
      }
    },
    {
      "cell_type": "code",
      "source": [],
      "metadata": {
        "id": "taeYCMyfHDuG"
      },
      "execution_count": null,
      "outputs": []
    },
    {
      "cell_type": "code",
      "source": [],
      "metadata": {
        "id": "KWxgBeB6HDxM"
      },
      "execution_count": null,
      "outputs": []
    },
    {
      "cell_type": "markdown",
      "source": [
        "Instead of minimizing the average daily CVaR over the year, we also explored a more conservative strategy of minimizing the maximum monthly CVaR. This approach is designed to protect against the single worst month's tail loss. The resulting portfolio would likely be more conservative than the one from Part 2, with a potentially lower expected return."
      ],
      "metadata": {
        "id": "rzRhv7Pnlyhs"
      }
    },
    {
      "cell_type": "markdown",
      "source": [
        "## **Part 5: Monthly Update/Allocation**"
      ],
      "metadata": {
        "id": "T4IpOxz2mL5R"
      }
    },
    {
      "cell_type": "markdown",
      "source": [
        "The mathematical model for each month's optimization is identical to the baseline model from Part 2. The difference is procedural: you are running that same optimization 12 times, each time with a different, rolling data window.\n",
        "\n",
        "For each month t in 2020 (from Jan to Dec):\n",
        "\n",
        "Select Data: Create a dataset of daily returns from the previous 12 months (e.g., for Jan 2020, use data from Jan 2019 - Dec 2019).\n",
        "\n",
        "Solve: Solve the baseline CVaR optimization problem using this 12-month data slice to find the optimal portfolio for that month, x\n",
        "(t)\n",
        " .\n",
        "\n",
        "Store & Repeat: Store the resulting portfolio weights x\n",
        "(t)\n",
        "  and move to the next month."
      ],
      "metadata": {
        "id": "koDosSLKMCy8"
      }
    },
    {
      "cell_type": "code",
      "source": [
        "# set inputs\n",
        "beta_2019 = 0.95\n",
        "R_2019 = 0.0002\n",
        "\n",
        "# Create the Gurobi model\n",
        "CVaR_model_2019 = gp.Model(\"CVaR_Optimization_2019\")\n",
        "\n",
        "# Add/Define decision variables\n",
        "x_2019 = CVaR_model_2019.addMVar(num_stocks_2019, lb=0.0, name=\"weights\") # here set non-negative contraint\n",
        "alpha_2019 = CVaR_model_2019.addMVar(1, name=\"VaR\")\n",
        "u_2019 = CVaR_model_2019.addMVar(num_days_2019, lb=0.0, name=\"excess_loss\") # here set non-negative contraint\n",
        "\n",
        "# Set the objective function: Minimize CVaR\n",
        "CVaR_model_2019.setObjective(alpha_2019 + (1 / ((1 - beta_2019) * num_days_2019)) * u_2019.sum(), gp.GRB.MINIMIZE)\n",
        "\n",
        "# Add constraints (@ is for matrix operation)\n",
        "CVaR_model_2019.addConstr(x_2019.sum() == 1, name=\"weights_sum_one_constraint\")\n",
        "CVaR_model_2019.addConstr(returns_2019_clean.mean().values @ x_2019 >= R_2019, name=\"min_return_constraint\")\n",
        "CVaR_model_2019.addConstr(-returns_2019_clean.values @ x_2019 - alpha_2019 <= u_2019, name=\"excess_loss_constraint\")\n",
        "\n",
        "# Solve the model\n",
        "CVaR_model_2019.Params.OutputFlag = 0 # Suppress Gurobi output\n",
        "CVaR_model_2019.optimize()\n",
        "\n",
        "CVaR_model_2019.objVal"
      ],
      "metadata": {
        "colab": {
          "base_uri": "https://localhost:8080/"
        },
        "id": "jPtterRyL_-9",
        "outputId": "c4ced010-8ad1-4af7-c77c-dfc5f7408776"
      },
      "execution_count": 108,
      "outputs": [
        {
          "output_type": "execute_result",
          "data": {
            "text/plain": [
              "0.011089668286016466"
            ]
          },
          "metadata": {},
          "execution_count": 108
        }
      ]
    },
    {
      "cell_type": "code",
      "source": [
        "from pandas.tseries.offsets import DateOffset\n",
        "\n",
        "# Combine 2019 and 2020 data for rolling window calculation\n",
        "combined_returns = pd.concat([returns_2019_clean, returns_2020_clean])\n",
        "\n",
        "monthly_cvars = []\n",
        "monthly_portfolios = {}\n",
        "\n",
        "# Define the start of each month in 2020 for rebalancing\n",
        "rebalance_dates = pd.date_range(start='2020-01-01', end='2020-12-01', freq='MS')"
      ],
      "metadata": {
        "id": "2LsY9PZSMB0q"
      },
      "execution_count": 114,
      "outputs": []
    },
    {
      "cell_type": "code",
      "source": [
        "rebalance_dates"
      ],
      "metadata": {
        "colab": {
          "base_uri": "https://localhost:8080/"
        },
        "id": "NpFaFWGKMB3f",
        "outputId": "ba26ad40-a443-4260-bdfc-5551f096f1d5"
      },
      "execution_count": 115,
      "outputs": [
        {
          "output_type": "execute_result",
          "data": {
            "text/plain": [
              "DatetimeIndex(['2020-01-01', '2020-02-01', '2020-03-01', '2020-04-01',\n",
              "               '2020-05-01', '2020-06-01', '2020-07-01', '2020-08-01',\n",
              "               '2020-09-01', '2020-10-01', '2020-11-01', '2020-12-01'],\n",
              "              dtype='datetime64[ns]', freq='MS')"
            ]
          },
          "metadata": {},
          "execution_count": 115
        }
      ]
    },
    {
      "cell_type": "code",
      "source": [
        "for date in rebalance_dates:\n",
        "    # Define the 12-month rolling window\n",
        "    end_date = date - pd.Timedelta(days=1)\n",
        "    start_date = end_date - DateOffset(years=1) + pd.Timedelta(days=1)\n",
        "\n",
        "    # Select training data\n",
        "    training_data = combined_returns.loc[start_date:end_date]\n",
        "\n",
        "    q = len(training_data)\n",
        "    if q == 0:\n",
        "        continue # Skip if no data in window\n",
        "\n",
        "    # --- Set up and solve the optimization for the month ---\n",
        "    model_monthly = gp.Model(f\"CVaR_monthly_{date.strftime('%Y-%m')}\")\n",
        "\n",
        "    x_monthly = model_monthly.addMVar(num_stocks_2019, lb=0.0, name=\"weights\")\n",
        "    alpha_monthly = model_monthly.addMVar(1, name=\"VaR\")\n",
        "    u_monthly = model_monthly.addMVar(q, lb=0.0, name=\"excess_loss\")\n",
        "\n",
        "    cvar_expr = alpha_monthly + (1 / ((1 - beta_2019) * q)) * u_monthly.sum()\n",
        "    model_monthly.setObjective(cvar_expr, gp.GRB.MINIMIZE)\n",
        "\n",
        "    portfolio_loss = -training_data.values @ x_monthly\n",
        "    model_monthly.addConstr(portfolio_loss - alpha_monthly <= u_monthly)\n",
        "    model_monthly.addConstr(x_monthly.sum() == 1)\n",
        "    model_monthly.addConstr(training_data.mean().values @ x_monthly >= R_2019)\n",
        "\n",
        "    model_monthly.Params.OutputFlag = 0\n",
        "    model_monthly.optimize()\n",
        "\n",
        "    if model_monthly.status == gp.GRB.OPTIMAL:\n",
        "        monthly_cvars.append(model_monthly.objVal)\n",
        "        monthly_portfolios[date.strftime('%Y-%m')] = x_monthly.X\n",
        "        print(f\"Optimized for {date.strftime('%B %Y')}, In-Sample CVaR: {model_monthly.objVal:.6f}\")"
      ],
      "metadata": {
        "colab": {
          "base_uri": "https://localhost:8080/"
        },
        "id": "JlfldeCYMB6H",
        "outputId": "3bd89b40-604c-4d16-adc2-c5b9aebcc823"
      },
      "execution_count": 119,
      "outputs": [
        {
          "output_type": "stream",
          "name": "stdout",
          "text": [
            "Optimized for January 2020, In-Sample CVaR: 0.011090\n",
            "Optimized for February 2020, In-Sample CVaR: 0.011024\n",
            "Optimized for March 2020, In-Sample CVaR: 0.014841\n",
            "Optimized for April 2020, In-Sample CVaR: 0.029922\n",
            "Optimized for May 2020, In-Sample CVaR: 0.031384\n",
            "Optimized for June 2020, In-Sample CVaR: 0.030180\n",
            "Optimized for July 2020, In-Sample CVaR: 0.030558\n",
            "Optimized for August 2020, In-Sample CVaR: 0.031039\n",
            "Optimized for September 2020, In-Sample CVaR: 0.028848\n",
            "Optimized for October 2020, In-Sample CVaR: 0.030754\n",
            "Optimized for November 2020, In-Sample CVaR: 0.030822\n",
            "Optimized for December 2020, In-Sample CVaR: 0.030822\n"
          ]
        }
      ]
    },
    {
      "cell_type": "code",
      "source": [
        "# Calculate and print the average CVaR for the dynamic strategy\n",
        "if monthly_cvars:\n",
        "    average_dynamic_cvar = np.mean(monthly_cvars)\n",
        "    print(f\"Average In-Sample Daily CVaR for dynamic strategy in 2020: {average_dynamic_cvar:.6f}\")\n",
        "    if static_portfolio_cvar_2020 != -1:\n",
        "        print(f\"Comparison: Static Portfolio CVaR was {static_portfolio_cvar_2020:.6f}\")\n",
        "        improvement = (static_portfolio_cvar_2020 - average_dynamic_cvar) / static_portfolio_cvar_2020\n",
        "        print(f\"The dynamic strategy showed a {improvement:.2%} improvement in average risk.\")\n",
        "else:\n",
        "    print(\"Monthly re-optimization failed to produce results.\")"
      ],
      "metadata": {
        "id": "vXq14-pNHD0U",
        "colab": {
          "base_uri": "https://localhost:8080/",
          "height": 228
        },
        "outputId": "5ad3edeb-e75a-4994-fcec-d9b3c79f5a9f"
      },
      "execution_count": 117,
      "outputs": [
        {
          "output_type": "stream",
          "name": "stdout",
          "text": [
            "Average In-Sample Daily CVaR for dynamic strategy in 2020: 0.025940\n"
          ]
        },
        {
          "output_type": "error",
          "ename": "NameError",
          "evalue": "name 'static_portfolio_cvar_2020' is not defined",
          "traceback": [
            "\u001b[0;31m---------------------------------------------------------------------------\u001b[0m",
            "\u001b[0;31mNameError\u001b[0m                                 Traceback (most recent call last)",
            "\u001b[0;32m/tmp/ipython-input-4132333624.py\u001b[0m in \u001b[0;36m<cell line: 0>\u001b[0;34m()\u001b[0m\n\u001b[1;32m      3\u001b[0m     \u001b[0maverage_dynamic_cvar\u001b[0m \u001b[0;34m=\u001b[0m \u001b[0mnp\u001b[0m\u001b[0;34m.\u001b[0m\u001b[0mmean\u001b[0m\u001b[0;34m(\u001b[0m\u001b[0mmonthly_cvars\u001b[0m\u001b[0;34m)\u001b[0m\u001b[0;34m\u001b[0m\u001b[0;34m\u001b[0m\u001b[0m\n\u001b[1;32m      4\u001b[0m     \u001b[0mprint\u001b[0m\u001b[0;34m(\u001b[0m\u001b[0;34mf\"Average In-Sample Daily CVaR for dynamic strategy in 2020: {average_dynamic_cvar:.6f}\"\u001b[0m\u001b[0;34m)\u001b[0m\u001b[0;34m\u001b[0m\u001b[0;34m\u001b[0m\u001b[0m\n\u001b[0;32m----> 5\u001b[0;31m     \u001b[0;32mif\u001b[0m \u001b[0mstatic_portfolio_cvar_2020\u001b[0m \u001b[0;34m!=\u001b[0m \u001b[0;34m-\u001b[0m\u001b[0;36m1\u001b[0m\u001b[0;34m:\u001b[0m\u001b[0;34m\u001b[0m\u001b[0;34m\u001b[0m\u001b[0m\n\u001b[0m\u001b[1;32m      6\u001b[0m         \u001b[0mprint\u001b[0m\u001b[0;34m(\u001b[0m\u001b[0;34mf\"Comparison: Static Portfolio CVaR was {static_portfolio_cvar_2020:.6f}\"\u001b[0m\u001b[0;34m)\u001b[0m\u001b[0;34m\u001b[0m\u001b[0;34m\u001b[0m\u001b[0m\n\u001b[1;32m      7\u001b[0m         \u001b[0mimprovement\u001b[0m \u001b[0;34m=\u001b[0m \u001b[0;34m(\u001b[0m\u001b[0mstatic_portfolio_cvar_2020\u001b[0m \u001b[0;34m-\u001b[0m \u001b[0maverage_dynamic_cvar\u001b[0m\u001b[0;34m)\u001b[0m \u001b[0;34m/\u001b[0m \u001b[0mstatic_portfolio_cvar_2020\u001b[0m\u001b[0;34m\u001b[0m\u001b[0;34m\u001b[0m\u001b[0m\n",
            "\u001b[0;31mNameError\u001b[0m: name 'static_portfolio_cvar_2020' is not defined"
          ]
        }
      ]
    },
    {
      "cell_type": "code",
      "source": [],
      "metadata": {
        "id": "PHz9Gw_5mNC7"
      },
      "execution_count": null,
      "outputs": []
    },
    {
      "cell_type": "code",
      "source": [],
      "metadata": {
        "id": "QkgC1i-5mNpc"
      },
      "execution_count": null,
      "outputs": []
    },
    {
      "cell_type": "markdown",
      "source": [
        "## **Part 6: Stable Portfolio**"
      ],
      "metadata": {
        "id": "nT4LPfwzmNYA"
      }
    },
    {
      "cell_type": "code",
      "source": [
        "print(\"\\n--- Part 6: Enforcing Stability with Weight Change Constraints ---\")\n",
        "# Let's take the first two \"monthly\" portfolios from part 5\n",
        "weights_month1 = optimal_weights_2 # Proxy for month 1\n",
        "weights_month2 = results_beta[0.90] # Proxy for month 2, to show a difference\n",
        "\n",
        "turnover_limit = 0.05  # 5 percentage points\n",
        "\n",
        "model_6 = gp.Model(\"Stable_Portfolio\")\n",
        "x_6 = model_6.addMVar(num_stocks, lb=0.0, name=\"weights\")\n",
        "u_6 = model_6.addMVar(num_days_2019, lb=0.0)\n",
        "alpha_6 = model_6.addMVar(1)\n",
        "\n",
        "model_6.setObjective(alpha_6 + (1 / (1 - beta_2)) * u_6.sum() / num_days_2019, gp.GRB.MINIMIZE)\n",
        "model_6.addConstr(x_6.sum() == 1)\n",
        "model_6.addConstr(returns_2019.mean() @ x_6 >= R_2)\n",
        "model_6.addConstr(-returns_2019.to_numpy() @ x_6 - alpha_6 <= u_6)\n",
        "# Add the stability constraint: the change from the previous month's weights is limited.\n",
        "model_6.addConstrs((x_6[i] - weights_month1[i] <= turnover_limit for i in range(num_stocks)), name=\"upper_turnover\")\n",
        "model_6.addConstrs((x_6[i] - weights_month1[i] >= -turnover_limit for i in range(num_stocks)), name=\"lower_turnover\")\n",
        "\n",
        "model_6.Params.OutputFlag = 0\n",
        "model_6.optimize()\n",
        "\n",
        "print(\"Portfolio weights with stability constraints are calculated.\")\n",
        "print(\"Discussion: Stability constraints reduce portfolio turnover, which lowers transaction costs and can make the portfolio's behavior more predictable. However, it can also prevent the portfolio from optimally positioning itself for new market information, potentially leading to lower returns or higher risk than an unconstrained portfolio.\")\n",
        "\n"
      ],
      "metadata": {
        "id": "wNZTAo9ImOaZ"
      },
      "execution_count": null,
      "outputs": []
    },
    {
      "cell_type": "code",
      "source": [],
      "metadata": {
        "id": "Rzaw5BdsmOyt"
      },
      "execution_count": null,
      "outputs": []
    }
  ]
}